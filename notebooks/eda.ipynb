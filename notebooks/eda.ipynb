{
 "cells": [
  {
   "cell_type": "code",
   "execution_count": 1,
   "metadata": {
    "pycharm": {
     "name": "#%%\n"
    }
   },
   "outputs": [
    {
     "name": "stdout",
     "output_type": "stream",
     "text": [
      "Defaulting to user installation because normal site-packages is not writeable\n",
      "Requirement already satisfied: nltk in /home/misho/.local/lib/python3.10/site-packages (3.7)\n",
      "Requirement already satisfied: click in /usr/lib/python3.10/site-packages (from nltk) (8.1.3)\n",
      "Requirement already satisfied: joblib in /home/misho/.local/lib/python3.10/site-packages (from nltk) (1.1.0)\n",
      "Requirement already satisfied: regex>=2021.8.3 in /usr/lib/python3.10/site-packages (from nltk) (2021.11.10)\n",
      "Requirement already satisfied: tqdm in /usr/lib/python3.10/site-packages (from nltk) (4.64.0)\n"
     ]
    }
   ],
   "source": [
    "!pip install nltk"
   ]
  },
  {
   "cell_type": "code",
   "execution_count": 2,
   "metadata": {
    "pycharm": {
     "name": "#%%\n"
    }
   },
   "outputs": [
    {
     "name": "stderr",
     "output_type": "stream",
     "text": [
      "[nltk_data] Downloading package punkt to /home/misho/nltk_data...\n",
      "[nltk_data]   Package punkt is already up-to-date!\n"
     ]
    },
    {
     "data": {
      "text/plain": [
       "True"
      ]
     },
     "execution_count": 2,
     "metadata": {},
     "output_type": "execute_result"
    }
   ],
   "source": [
    "import string\n",
    "from pathlib import Path\n",
    "\n",
    "import nltk\n",
    "from nltk.tokenize import word_tokenize, sent_tokenize\n",
    "\n",
    "nltk.download('punkt')"
   ]
  },
  {
   "cell_type": "code",
   "execution_count": 5,
   "metadata": {
    "pycharm": {
     "name": "#%%\n"
    }
   },
   "outputs": [
    {
     "name": "stdout",
     "output_type": "stream",
     "text": [
      "Total characters in dataset: 63961\n"
     ]
    }
   ],
   "source": [
    "# Path should be changed according to the user's project location\n",
    "path = Path(\"../data/data.txt\")\n",
    "\n",
    "# Reading the file contents\n",
    "file = open(path, \"r\", encoding=\"utf8\")\n",
    "text = file.read()\n",
    "\n",
    "print(\"Total characters in dataset: {}\".format(len(text)))"
   ]
  },
  {
   "cell_type": "code",
   "execution_count": 6,
   "metadata": {
    "pycharm": {
     "name": "#%%\n"
    }
   },
   "outputs": [
    {
     "name": "stdout",
     "output_type": "stream",
     "text": [
      "First 500 characters: \n",
      "ედუარდ შევარდნაძე ედუარდ ამბროსის ძე შევარდნაძე დ. 25 იანვარი 1928 სოფელი მამათი ოზურგეთის მაზრა საქართველოს სსრ — გ. 7 ივლისი 2014 თბილისი საქართველო — ქართველი პოლიტიკოსი და სახელმწიფო მოღვაწე. 19721985 წლებში საქართველოს სსრის კომპარტიის ცკს პირველი მდივანი 19851990 წლებში საბჭოთა კავშირის საგარეო საქმეთა მინისტრი 1995–2003 წლებში საქართველოს პრეზიდენტი. იყო სსრკის IXXI მოწვევების უმაღლესი საბჭოს დეპუტატი. სოციალისტური შრომის გმირი 1981 სკკპ ცკის პოლიტბიუროს წევრობის კანდიდატი 1978 წევრი 1985\n"
     ]
    }
   ],
   "source": [
    "# We are not removing periods in order to keep a sentence count\n",
    "string.punctuation = string.punctuation + '“' + '”' + '’' + '‘'\n",
    "string.punctuation = string.punctuation.replace('.', '')\n",
    "\n",
    "file = open(path, encoding=\"utf8\").read()\n",
    "\n",
    "# Preprocess data to remove new lines and special characters\n",
    "file_new = \"\"\n",
    "index = 0\n",
    "\n",
    "for line in file:\n",
    "    line_new = line.replace(\"\\n\", \" \")\n",
    "    file_new += line_new\n",
    "    index += 1\n",
    "\n",
    "    # Temporarya es indexi rom cota sityva wamovigot. mere sul gavushvat\n",
    "    if index > 50000:\n",
    "        break\n",
    "\n",
    "processed_corpus = \"\".join([char for char in file_new if char not in string.punctuation])\n",
    "\n",
    "print(\"First 500 characters: \")\n",
    "print(processed_corpus[:500])"
   ]
  },
  {
   "cell_type": "code",
   "execution_count": 7,
   "metadata": {
    "pycharm": {
     "name": "#%%\n"
    }
   },
   "outputs": [
    {
     "name": "stdout",
     "output_type": "stream",
     "text": [
      "First five sentences: \n",
      "['ედუარდ შევარდნაძე ედუარდ ამბროსის ძე შევარდნაძე დ.', '25 იანვარი 1928 სოფელი მამათი ოზურგეთის მაზრა საქართველოს სსრ — გ.', '7 ივლისი 2014 თბილისი საქართველო — ქართველი პოლიტიკოსი და სახელმწიფო მოღვაწე.', '19721985 წლებში საქართველოს სსრის კომპარტიის ცკს პირველი მდივანი 19851990 წლებში საბჭოთა კავშირის საგარეო საქმეთა მინისტრი 1995–2003 წლებში საქართველოს პრეზიდენტი.', 'იყო სსრკის IXXI მოწვევების უმაღლესი საბჭოს დეპუტატი.']\n",
      "First five words: \n",
      "['ედუარდ', 'შევარდნაძე', 'ედუარდ', 'ამბროსის', 'ძე']\n"
     ]
    }
   ],
   "source": [
    "# Tokenizes the text into arrays of sentences and seperate words\n",
    "sentences = sent_tokenize(processed_corpus)\n",
    "words = word_tokenize(processed_corpus)\n",
    "\n",
    "print(\"First five sentences: \")\n",
    "print(sentences[0:5])\n",
    "print(\"First five words: \")\n",
    "print(words[0:5])"
   ]
  },
  {
   "cell_type": "code",
   "execution_count": null,
   "metadata": {
    "pycharm": {
     "name": "#%%\n"
    }
   },
   "outputs": [],
   "source": []
  },
  {
   "cell_type": "code",
   "execution_count": 8,
   "metadata": {
    "pycharm": {
     "name": "#%%\n"
    }
   },
   "outputs": [
    {
     "name": "stderr",
     "output_type": "stream",
     "text": [
      "[nltk_data] Downloading package punkt to /home/misho/nltk_data...\n",
      "[nltk_data]   Package punkt is already up-to-date!\n"
     ]
    },
    {
     "data": {
      "text/plain": [
       "True"
      ]
     },
     "execution_count": 8,
     "metadata": {},
     "output_type": "execute_result"
    }
   ],
   "source": [
    "from pathlib import Path\n",
    "import nltk\n",
    "from nltk.tokenize import word_tokenize, sent_tokenize\n",
    "import string\n",
    "\n",
    "nltk.download('punkt')"
   ]
  },
  {
   "cell_type": "code",
   "execution_count": 9,
   "metadata": {
    "pycharm": {
     "name": "#%%\n"
    }
   },
   "outputs": [
    {
     "name": "stdout",
     "output_type": "stream",
     "text": [
      "Total characters in dataset: 63961\n"
     ]
    }
   ],
   "source": [
    "# Path should be changed according to the user's project location\n",
    "path = Path(\"../data/data.txt\")\n",
    "\n",
    "# Reading the file contents\n",
    "file = open(path, \"r\", encoding=\"utf8\")\n",
    "text = file.read()\n",
    "\n",
    "print (\"Total characters in dataset: {}\".format(len(text)))"
   ]
  },
  {
   "cell_type": "code",
   "execution_count": 4,
   "metadata": {
    "pycharm": {
     "name": "#%%\n"
    }
   },
   "outputs": [
    {
     "name": "stdout",
     "output_type": "stream",
     "text": [
      "First 500 characters: \n",
      "ედუარდ შევარდნაძე  ედუარდ ამბროსის ძე შევარდნაძე დ. 25 იანვარი 1928 სოფელი მამათი ოზურგეთის მაზრა საქართველოს სსრ — გ. 7 ივლისი 2014 თბილისი საქართველო — ქართველი პოლიტიკოსი და სახელმწიფო მოღვაწე. 19721985 წლებში საქართველოს სსრის კომპარტიის ცკს პირველი მდივანი 19851990 წლებში საბჭოთა კავშირის საგარეო საქმეთა მინისტრი 1995–2003 წლებში საქართველოს პრეზიდენტი. იყო სსრკის IXXI მოწვევების უმაღლესი საბჭოს დეპუტატი. სოციალისტური შრომის გმირი 1981 სკკპ ცკის პოლიტბიუროს წევრობის კანდიდატი 1978 წევრი 198\n"
     ]
    }
   ],
   "source": [
    "# We are not removing periods in order to keep a sentence count\n",
    "string.punctuation = string.punctuation +'“'+'”'+'’'+'‘'\n",
    "string.punctuation = string.punctuation.replace('.', '')\n",
    "\n",
    "file = open(path, encoding=\"utf8\").read()\n",
    "\n",
    "# Preprocess data to remove new lines and special characters\n",
    "file_new = \"\"\n",
    "index = 0\n",
    "\n",
    "for line in file:\n",
    "    line_new = line.replace(\"\\n\", \" \")\n",
    "    file_new += line_new\n",
    "    index += 1\n",
    "    \n",
    "    # Temporarya es indexi rom cota sityva wamovigot. mere sul gavushvat\n",
    "    if index > 50000:\n",
    "        break\n",
    "    \n",
    "processed_corpus = \"\".join([char for char in file_new if char not in string.punctuation])\n",
    "\n",
    "print(\"First 500 characters: \")\n",
    "print(processed_corpus[:500])"
   ]
  },
  {
   "cell_type": "code",
   "execution_count": 10,
   "metadata": {
    "pycharm": {
     "name": "#%%\n"
    }
   },
   "outputs": [
    {
     "name": "stdout",
     "output_type": "stream",
     "text": [
      "First five sentences: \n",
      "['ედუარდ შევარდნაძე ედუარდ ამბროსის ძე შევარდნაძე დ.', '25 იანვარი 1928 სოფელი მამათი ოზურგეთის მაზრა საქართველოს სსრ — გ.', '7 ივლისი 2014 თბილისი საქართველო — ქართველი პოლიტიკოსი და სახელმწიფო მოღვაწე.', '19721985 წლებში საქართველოს სსრის კომპარტიის ცკს პირველი მდივანი 19851990 წლებში საბჭოთა კავშირის საგარეო საქმეთა მინისტრი 1995–2003 წლებში საქართველოს პრეზიდენტი.', 'იყო სსრკის IXXI მოწვევების უმაღლესი საბჭოს დეპუტატი.']\n",
      "First five words: \n",
      "['ედუარდ', 'შევარდნაძე', 'ედუარდ', 'ამბროსის', 'ძე']\n"
     ]
    }
   ],
   "source": [
    "# Tokenizes the text into arrays of sentences and seperate words\n",
    "sentences = sent_tokenize(processed_corpus)\n",
    "words = word_tokenize(processed_corpus)\n",
    "\n",
    "print(\"First five sentences: \")\n",
    "print(sentences[0:5])\n",
    "print(\"First five words: \")\n",
    "print(words[0:5])"
   ]
  },
  {
   "cell_type": "code",
   "execution_count": null,
   "metadata": {
    "pycharm": {
     "name": "#%%\n"
    }
   },
   "outputs": [],
   "source": []
  }
 ],
 "metadata": {
  "kernelspec": {
   "display_name": "nlp_final_project",
   "language": "python",
   "name": "nlp_final_project"
  },
  "language_info": {
   "codemirror_mode": {
    "name": "ipython",
    "version": 3
   },
   "file_extension": ".py",
   "mimetype": "text/x-python",
   "name": "python",
   "nbconvert_exporter": "python",
   "pygments_lexer": "ipython3",
   "version": "3.7.13"
  }
 },
 "nbformat": 4,
 "nbformat_minor": 1
}