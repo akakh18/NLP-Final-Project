{
 "cells": [
  {
   "cell_type": "code",
   "execution_count": 1,
   "outputs": [
    {
     "name": "stdout",
     "output_type": "stream",
     "text": [
      "['kawiki.txt', 'data3.txt', 'data.txt', 'data_115000.txt', 'data2.txt']\n"
     ]
    }
   ],
   "source": [
    "import os\n",
    "import torch\n",
    "\n",
    "import utils\n",
    "\n",
    "%load_ext autoreload\n",
    "%autoreload 2\n",
    "\n",
    "CUDA_LAUNCH_BLOCKING=1\n",
    "os.environ['CUDA_LAUNCH_BLOCKING'] = \"1\"\n",
    "print(os.listdir(\"../data/\"))\n"
   ],
   "metadata": {
    "collapsed": false,
    "pycharm": {
     "name": "#%%\n"
    }
   }
  },
  {
   "cell_type": "code",
   "execution_count": 2,
   "outputs": [],
   "source": [
    "from utils import GeorgianLanguageDatasetLoader\n",
    "import gc\n",
    "gc.collect()\n",
    "torch.cuda.empty_cache()\n",
    "\n",
    "# device = torch.device('cuda' if torch.cuda.is_available() else 'cpu')\n",
    "# using cpu because gpu is not enough\n",
    "device = torch.device('cpu')\n",
    "dataset = GeorgianLanguageDatasetLoader(\"../data/data_115000.txt\", 5, device)"
   ],
   "metadata": {
    "collapsed": false,
    "pycharm": {
     "name": "#%%\n"
    }
   }
  },
  {
   "cell_type": "code",
   "execution_count": 3,
   "outputs": [
    {
     "name": "stdout",
     "output_type": "stream",
     "text": [
      "['<unk>', ',', '.', 'და', ')', '(', '„', '“', 'წელს', '—', 'იყო', 'წლის', ':', 'რომელიც', 'შემდეგ', 'რომ', 'მისი', '``', 'ამ', \"''\"]\n"
     ]
    }
   ],
   "source": [
    "vocab = dataset.get_vocabulary()\n",
    "print(vocab.get_itos()[:20])"
   ],
   "metadata": {
    "collapsed": false,
    "pycharm": {
     "name": "#%%\n"
    }
   }
  },
  {
   "cell_type": "code",
   "execution_count": 4,
   "outputs": [
    {
     "data": {
      "text/plain": "tensor([ 910,  644,  517,  691, 9915,    1,   13,  154,  509, 1907])"
     },
     "execution_count": 4,
     "metadata": {},
     "output_type": "execute_result"
    }
   ],
   "source": [
    "train_data, valid_data, test_data = dataset.get_data()\n",
    "train_data[:10]"
   ],
   "metadata": {
    "collapsed": false,
    "pycharm": {
     "name": "#%%\n"
    }
   }
  },
  {
   "cell_type": "code",
   "execution_count": 5,
   "outputs": [
    {
     "data": {
      "text/plain": "'მინდა გემორჩილო და ბატონად გაღიაროვო “ . მსოფლიო ბანკი დანიას ევროკავშირში ბიზნესის ყველაზე ადვილად კეთების ადგილად მიიჩნევს . ქაოსი ('"
     },
     "execution_count": 5,
     "metadata": {},
     "output_type": "execute_result"
    }
   ],
   "source": [
    "' '.join([vocab.get_itos()[i] for i in train_data[40:60]])"
   ],
   "metadata": {
    "collapsed": false,
    "pycharm": {
     "name": "#%%\n"
    }
   }
  },
  {
   "cell_type": "code",
   "execution_count": 6,
   "outputs": [
    {
     "data": {
      "text/plain": "[364, 342, 4857]"
     },
     "execution_count": 6,
     "metadata": {},
     "output_type": "execute_result"
    }
   ],
   "source": [
    "text_pipeline = dataset.get_text_pipeline()\n",
    "text_pipeline(\"შავი კაცი მიდიოდა\")"
   ],
   "metadata": {
    "collapsed": false,
    "pycharm": {
     "name": "#%%\n"
    }
   }
  },
  {
   "cell_type": "code",
   "execution_count": 7,
   "outputs": [],
   "source": [
    "train_data_batched, val_data_batched = dataset.get_batched_data()"
   ],
   "metadata": {
    "collapsed": false,
    "pycharm": {
     "name": "#%%\n"
    }
   }
  },
  {
   "cell_type": "code",
   "execution_count": 8,
   "outputs": [
    {
     "data": {
      "text/plain": "(torch.Size([5, 158221]), device(type='cpu'))"
     },
     "execution_count": 8,
     "metadata": {},
     "output_type": "execute_result"
    }
   ],
   "source": [
    "train_data_batched.shape, train_data_batched.device"
   ],
   "metadata": {
    "collapsed": false,
    "pycharm": {
     "name": "#%%\n"
    }
   }
  },
  {
   "cell_type": "code",
   "execution_count": 9,
   "outputs": [],
   "source": [
    "x, y = utils.get_batch(train_data_batched, 1)"
   ],
   "metadata": {
    "collapsed": false,
    "pycharm": {
     "name": "#%%\n"
    }
   }
  },
  {
   "cell_type": "code",
   "execution_count": 10,
   "outputs": [
    {
     "data": {
      "text/plain": "(torch.Size([5, 10]), torch.Size([5, 10]), torch.Size([5, 158221]))"
     },
     "execution_count": 10,
     "metadata": {},
     "output_type": "execute_result"
    }
   ],
   "source": [
    "x.shape, y.shape, train_data_batched.shape"
   ],
   "metadata": {
    "collapsed": false,
    "pycharm": {
     "name": "#%%\n"
    }
   }
  },
  {
   "cell_type": "code",
   "execution_count": 11,
   "outputs": [
    {
     "data": {
      "text/plain": "True"
     },
     "execution_count": 11,
     "metadata": {},
     "output_type": "execute_result"
    }
   ],
   "source": [
    "x.storage().data_ptr() == train_data_batched.storage().data_ptr()"
   ],
   "metadata": {
    "collapsed": false,
    "pycharm": {
     "name": "#%%\n"
    }
   }
  },
  {
   "cell_type": "code",
   "execution_count": 12,
   "outputs": [
    {
     "data": {
      "text/plain": "(tensor([ 644,  517,  691, 9915,    1,   13,  154,  509, 1907, 3464]),\n tensor([ 517,  691, 9915,    1,   13,  154,  509, 1907, 3464, 1095]))"
     },
     "execution_count": 12,
     "metadata": {},
     "output_type": "execute_result"
    }
   ],
   "source": [
    "x[0], y[0]"
   ],
   "metadata": {
    "collapsed": false,
    "pycharm": {
     "name": "#%%\n"
    }
   }
  },
  {
   "cell_type": "code",
   "execution_count": 24,
   "outputs": [
    {
     "name": "stderr",
     "output_type": "stream",
     "text": [
      "/home/misho/anaconda3/envs/nlp_final_project/lib/python3.7/site-packages/torch/nn/modules/rnn.py:65: UserWarning: dropout option adds dropout after all but last recurrent layer, so non-zero dropout expects num_layers greater than 1, but got dropout=0.25 and num_layers=1\n",
      "  \"num_layers={}\".format(dropout, num_layers))\n"
     ]
    },
    {
     "name": "stdout",
     "output_type": "stream",
     "text": [
      "{'epoch': 0, 'batch': 0, 'loss': 11.636711120605469}\n",
      "{'epoch': 1, 'batch': 0, 'loss': 11.582306861877441}\n",
      "{'epoch': 2, 'batch': 0, 'loss': 11.527762413024902}\n",
      "{'epoch': 3, 'batch': 0, 'loss': 11.47675895690918}\n",
      "{'epoch': 4, 'batch': 0, 'loss': 11.431130409240723}\n",
      "{'epoch': 5, 'batch': 0, 'loss': 11.371769905090332}\n",
      "{'epoch': 6, 'batch': 0, 'loss': 11.29650592803955}\n",
      "{'epoch': 7, 'batch': 0, 'loss': 11.198358535766602}\n",
      "{'epoch': 8, 'batch': 0, 'loss': 11.116037368774414}\n",
      "{'epoch': 9, 'batch': 0, 'loss': 11.004416465759277}\n",
      "{'epoch': 10, 'batch': 0, 'loss': 10.78904914855957}\n",
      "{'epoch': 11, 'batch': 0, 'loss': 10.543282508850098}\n",
      "{'epoch': 12, 'batch': 0, 'loss': 10.217506408691406}\n",
      "{'epoch': 13, 'batch': 0, 'loss': 9.797294616699219}\n",
      "{'epoch': 14, 'batch': 0, 'loss': 9.305048942565918}\n",
      "{'epoch': 15, 'batch': 0, 'loss': 8.8091459274292}\n",
      "{'epoch': 16, 'batch': 0, 'loss': 8.248229026794434}\n",
      "{'epoch': 17, 'batch': 0, 'loss': 7.704070568084717}\n",
      "{'epoch': 18, 'batch': 0, 'loss': 7.143138408660889}\n",
      "{'epoch': 19, 'batch': 0, 'loss': 6.575129508972168}\n",
      "{'epoch': 20, 'batch': 0, 'loss': 6.0063090324401855}\n",
      "{'epoch': 21, 'batch': 0, 'loss': 5.4435343742370605}\n",
      "{'epoch': 22, 'batch': 0, 'loss': 4.921700954437256}\n",
      "{'epoch': 23, 'batch': 0, 'loss': 4.428316116333008}\n",
      "{'epoch': 24, 'batch': 0, 'loss': 4.039401054382324}\n",
      "{'epoch': 25, 'batch': 0, 'loss': 3.694636583328247}\n",
      "{'epoch': 26, 'batch': 0, 'loss': 3.4203171730041504}\n",
      "{'epoch': 27, 'batch': 0, 'loss': 3.212092399597168}\n",
      "{'epoch': 28, 'batch': 0, 'loss': 3.055784225463867}\n",
      "{'epoch': 29, 'batch': 0, 'loss': 2.9242420196533203}\n",
      "{'epoch': 30, 'batch': 0, 'loss': 2.806913137435913}\n",
      "{'epoch': 31, 'batch': 0, 'loss': 2.735231637954712}\n",
      "{'epoch': 32, 'batch': 0, 'loss': 2.66300630569458}\n",
      "{'epoch': 33, 'batch': 0, 'loss': 2.613276958465576}\n",
      "{'epoch': 34, 'batch': 0, 'loss': 2.5896384716033936}\n",
      "{'epoch': 35, 'batch': 0, 'loss': 2.5419564247131348}\n",
      "{'epoch': 36, 'batch': 0, 'loss': 2.520989179611206}\n",
      "{'epoch': 37, 'batch': 0, 'loss': 2.497633457183838}\n",
      "{'epoch': 38, 'batch': 0, 'loss': 2.4820969104766846}\n",
      "{'epoch': 39, 'batch': 0, 'loss': 2.4666929244995117}\n",
      "{'epoch': 40, 'batch': 0, 'loss': 2.425455331802368}\n",
      "{'epoch': 41, 'batch': 0, 'loss': 2.417771100997925}\n",
      "{'epoch': 42, 'batch': 0, 'loss': 2.392969846725464}\n",
      "{'epoch': 43, 'batch': 0, 'loss': 2.374958038330078}\n",
      "{'epoch': 44, 'batch': 0, 'loss': 2.331740140914917}\n",
      "{'epoch': 45, 'batch': 0, 'loss': 2.310136318206787}\n",
      "{'epoch': 46, 'batch': 0, 'loss': 2.302276849746704}\n",
      "{'epoch': 47, 'batch': 0, 'loss': 2.270236015319824}\n",
      "{'epoch': 48, 'batch': 0, 'loss': 2.2456982135772705}\n",
      "{'epoch': 49, 'batch': 0, 'loss': 2.2267215251922607}\n",
      "{'epoch': 50, 'batch': 0, 'loss': 2.2075581550598145}\n",
      "{'epoch': 51, 'batch': 0, 'loss': 2.2059996128082275}\n",
      "{'epoch': 52, 'batch': 0, 'loss': 2.1787476539611816}\n",
      "{'epoch': 53, 'batch': 0, 'loss': 2.1658577919006348}\n",
      "{'epoch': 54, 'batch': 0, 'loss': 2.1450202465057373}\n",
      "{'epoch': 55, 'batch': 0, 'loss': 2.1337413787841797}\n",
      "{'epoch': 56, 'batch': 0, 'loss': 2.0998733043670654}\n",
      "{'epoch': 57, 'batch': 0, 'loss': 2.084834337234497}\n",
      "{'epoch': 58, 'batch': 0, 'loss': 2.07778263092041}\n",
      "{'epoch': 59, 'batch': 0, 'loss': 2.0629384517669678}\n",
      "{'epoch': 60, 'batch': 0, 'loss': 2.0425331592559814}\n",
      "{'epoch': 61, 'batch': 0, 'loss': 2.022115707397461}\n",
      "{'epoch': 62, 'batch': 0, 'loss': 2.0037713050842285}\n",
      "{'epoch': 63, 'batch': 0, 'loss': 1.9831559658050537}\n",
      "{'epoch': 64, 'batch': 0, 'loss': 1.960984706878662}\n",
      "{'epoch': 65, 'batch': 0, 'loss': 1.964829921722412}\n",
      "{'epoch': 66, 'batch': 0, 'loss': 1.9407906532287598}\n",
      "{'epoch': 67, 'batch': 0, 'loss': 1.921573281288147}\n",
      "{'epoch': 68, 'batch': 0, 'loss': 1.8924822807312012}\n",
      "{'epoch': 69, 'batch': 0, 'loss': 1.8930020332336426}\n",
      "{'epoch': 70, 'batch': 0, 'loss': 1.8661456108093262}\n",
      "{'epoch': 71, 'batch': 0, 'loss': 1.8376530408859253}\n",
      "{'epoch': 72, 'batch': 0, 'loss': 1.8415871858596802}\n",
      "{'epoch': 73, 'batch': 0, 'loss': 1.815610408782959}\n",
      "{'epoch': 74, 'batch': 0, 'loss': 1.794325828552246}\n",
      "{'epoch': 75, 'batch': 0, 'loss': 1.777992844581604}\n",
      "{'epoch': 76, 'batch': 0, 'loss': 1.7744970321655273}\n",
      "{'epoch': 77, 'batch': 0, 'loss': 1.7441846132278442}\n",
      "{'epoch': 78, 'batch': 0, 'loss': 1.7312240600585938}\n",
      "{'epoch': 79, 'batch': 0, 'loss': 1.7190959453582764}\n",
      "{'epoch': 80, 'batch': 0, 'loss': 1.6868687868118286}\n",
      "{'epoch': 81, 'batch': 0, 'loss': 1.6733527183532715}\n",
      "{'epoch': 82, 'batch': 0, 'loss': 1.6558305025100708}\n",
      "{'epoch': 83, 'batch': 0, 'loss': 1.6333316564559937}\n",
      "{'epoch': 84, 'batch': 0, 'loss': 1.623664379119873}\n",
      "{'epoch': 85, 'batch': 0, 'loss': 1.598893165588379}\n",
      "{'epoch': 86, 'batch': 0, 'loss': 1.573517918586731}\n",
      "{'epoch': 87, 'batch': 0, 'loss': 1.5609185695648193}\n",
      "{'epoch': 88, 'batch': 0, 'loss': 1.5597443580627441}\n",
      "{'epoch': 89, 'batch': 0, 'loss': 1.5127012729644775}\n",
      "{'epoch': 90, 'batch': 0, 'loss': 1.5071377754211426}\n",
      "{'epoch': 91, 'batch': 0, 'loss': 1.4893640279769897}\n",
      "{'epoch': 92, 'batch': 0, 'loss': 1.494231104850769}\n",
      "{'epoch': 93, 'batch': 0, 'loss': 1.4515210390090942}\n",
      "{'epoch': 94, 'batch': 0, 'loss': 1.4338091611862183}\n",
      "{'epoch': 95, 'batch': 0, 'loss': 1.4327317476272583}\n",
      "{'epoch': 96, 'batch': 0, 'loss': 1.396304726600647}\n",
      "{'epoch': 97, 'batch': 0, 'loss': 1.3864670991897583}\n",
      "{'epoch': 98, 'batch': 0, 'loss': 1.3671237230300903}\n",
      "{'epoch': 99, 'batch': 0, 'loss': 1.344356894493103}\n",
      "{'epoch': 100, 'batch': 0, 'loss': 1.3299970626831055}\n",
      "{'epoch': 101, 'batch': 0, 'loss': 1.326124668121338}\n",
      "{'epoch': 102, 'batch': 0, 'loss': 1.300171971321106}\n",
      "{'epoch': 103, 'batch': 0, 'loss': 1.2920222282409668}\n",
      "{'epoch': 104, 'batch': 0, 'loss': 1.2524968385696411}\n",
      "{'epoch': 105, 'batch': 0, 'loss': 1.245989203453064}\n",
      "{'epoch': 106, 'batch': 0, 'loss': 1.2282021045684814}\n",
      "{'epoch': 107, 'batch': 0, 'loss': 1.2174909114837646}\n",
      "{'epoch': 108, 'batch': 0, 'loss': 1.1878993511199951}\n",
      "{'epoch': 109, 'batch': 0, 'loss': 1.174420952796936}\n",
      "{'epoch': 110, 'batch': 0, 'loss': 1.1608139276504517}\n",
      "{'epoch': 111, 'batch': 0, 'loss': 1.1381478309631348}\n",
      "{'epoch': 112, 'batch': 0, 'loss': 1.136063575744629}\n",
      "{'epoch': 113, 'batch': 0, 'loss': 1.1145691871643066}\n",
      "{'epoch': 114, 'batch': 0, 'loss': 1.1010947227478027}\n",
      "{'epoch': 115, 'batch': 0, 'loss': 1.0737380981445312}\n",
      "{'epoch': 116, 'batch': 0, 'loss': 1.0676652193069458}\n",
      "{'epoch': 117, 'batch': 0, 'loss': 1.0546995401382446}\n",
      "{'epoch': 118, 'batch': 0, 'loss': 1.0322843790054321}\n",
      "{'epoch': 119, 'batch': 0, 'loss': 1.008917212486267}\n",
      "{'epoch': 120, 'batch': 0, 'loss': 0.9901776909828186}\n",
      "{'epoch': 121, 'batch': 0, 'loss': 0.9747129082679749}\n",
      "{'epoch': 122, 'batch': 0, 'loss': 0.9676698446273804}\n",
      "{'epoch': 123, 'batch': 0, 'loss': 0.9478269815444946}\n",
      "{'epoch': 124, 'batch': 0, 'loss': 0.9446350336074829}\n",
      "{'epoch': 125, 'batch': 0, 'loss': 0.9194395542144775}\n",
      "{'epoch': 126, 'batch': 0, 'loss': 0.9059451818466187}\n",
      "{'epoch': 127, 'batch': 0, 'loss': 0.9225407242774963}\n",
      "{'epoch': 128, 'batch': 0, 'loss': 0.8818709850311279}\n",
      "{'epoch': 129, 'batch': 0, 'loss': 0.8720427751541138}\n",
      "{'epoch': 130, 'batch': 0, 'loss': 0.8638375997543335}\n",
      "{'epoch': 131, 'batch': 0, 'loss': 0.8381824493408203}\n",
      "{'epoch': 132, 'batch': 0, 'loss': 0.8188027143478394}\n",
      "{'epoch': 133, 'batch': 0, 'loss': 0.8049918413162231}\n",
      "{'epoch': 134, 'batch': 0, 'loss': 0.7926077246665955}\n",
      "{'epoch': 135, 'batch': 0, 'loss': 0.7803611159324646}\n",
      "{'epoch': 136, 'batch': 0, 'loss': 0.7754567861557007}\n",
      "{'epoch': 137, 'batch': 0, 'loss': 0.7580375671386719}\n",
      "{'epoch': 138, 'batch': 0, 'loss': 0.7439768314361572}\n",
      "{'epoch': 139, 'batch': 0, 'loss': 0.7299744486808777}\n",
      "{'epoch': 140, 'batch': 0, 'loss': 0.7190061211585999}\n",
      "{'epoch': 141, 'batch': 0, 'loss': 0.7038200497627258}\n",
      "{'epoch': 142, 'batch': 0, 'loss': 0.6930667757987976}\n",
      "{'epoch': 143, 'batch': 0, 'loss': 0.6850528717041016}\n",
      "{'epoch': 144, 'batch': 0, 'loss': 0.664298951625824}\n",
      "{'epoch': 145, 'batch': 0, 'loss': 0.6675488948822021}\n",
      "{'epoch': 146, 'batch': 0, 'loss': 0.641977071762085}\n",
      "{'epoch': 147, 'batch': 0, 'loss': 0.6404010653495789}\n",
      "{'epoch': 148, 'batch': 0, 'loss': 0.628409743309021}\n",
      "{'epoch': 149, 'batch': 0, 'loss': 0.6091530919075012}\n",
      "{'epoch': 150, 'batch': 0, 'loss': 0.6059993505477905}\n",
      "{'epoch': 151, 'batch': 0, 'loss': 0.5956883430480957}\n",
      "{'epoch': 152, 'batch': 0, 'loss': 0.5770745873451233}\n",
      "{'epoch': 153, 'batch': 0, 'loss': 0.5682428479194641}\n",
      "{'epoch': 154, 'batch': 0, 'loss': 0.5498310327529907}\n",
      "{'epoch': 155, 'batch': 0, 'loss': 0.5545074343681335}\n",
      "{'epoch': 156, 'batch': 0, 'loss': 0.5244026184082031}\n",
      "{'epoch': 157, 'batch': 0, 'loss': 0.5283334255218506}\n",
      "{'epoch': 158, 'batch': 0, 'loss': 0.5144436359405518}\n",
      "{'epoch': 159, 'batch': 0, 'loss': 0.5226614475250244}\n",
      "{'epoch': 160, 'batch': 0, 'loss': 0.49364036321640015}\n",
      "{'epoch': 161, 'batch': 0, 'loss': 0.501399576663971}\n",
      "{'epoch': 162, 'batch': 0, 'loss': 0.4785419702529907}\n",
      "{'epoch': 163, 'batch': 0, 'loss': 0.47451251745224}\n",
      "{'epoch': 164, 'batch': 0, 'loss': 0.4684547781944275}\n",
      "{'epoch': 165, 'batch': 0, 'loss': 0.4392301142215729}\n",
      "{'epoch': 166, 'batch': 0, 'loss': 0.44897252321243286}\n",
      "{'epoch': 167, 'batch': 0, 'loss': 0.439818799495697}\n",
      "{'epoch': 168, 'batch': 0, 'loss': 0.4271174669265747}\n",
      "{'epoch': 169, 'batch': 0, 'loss': 0.4270216226577759}\n",
      "{'epoch': 170, 'batch': 0, 'loss': 0.4107036888599396}\n",
      "{'epoch': 171, 'batch': 0, 'loss': 0.3962050974369049}\n",
      "{'epoch': 172, 'batch': 0, 'loss': 0.39047396183013916}\n",
      "{'epoch': 173, 'batch': 0, 'loss': 0.3919461965560913}\n",
      "{'epoch': 174, 'batch': 0, 'loss': 0.3831409811973572}\n",
      "{'epoch': 175, 'batch': 0, 'loss': 0.3665647506713867}\n",
      "{'epoch': 176, 'batch': 0, 'loss': 0.36983832716941833}\n",
      "{'epoch': 177, 'batch': 0, 'loss': 0.3529287278652191}\n",
      "{'epoch': 178, 'batch': 0, 'loss': 0.35893988609313965}\n",
      "{'epoch': 179, 'batch': 0, 'loss': 0.3478632867336273}\n",
      "{'epoch': 180, 'batch': 0, 'loss': 0.3345682919025421}\n",
      "{'epoch': 181, 'batch': 0, 'loss': 0.33618953824043274}\n",
      "{'epoch': 182, 'batch': 0, 'loss': 0.3298918604850769}\n",
      "{'epoch': 183, 'batch': 0, 'loss': 0.3319893777370453}\n",
      "{'epoch': 184, 'batch': 0, 'loss': 0.30830079317092896}\n",
      "{'epoch': 185, 'batch': 0, 'loss': 0.3066352903842926}\n",
      "{'epoch': 186, 'batch': 0, 'loss': 0.3038455545902252}\n",
      "{'epoch': 187, 'batch': 0, 'loss': 0.30163872241973877}\n",
      "{'epoch': 188, 'batch': 0, 'loss': 0.2880142331123352}\n",
      "{'epoch': 189, 'batch': 0, 'loss': 0.28934893012046814}\n",
      "{'epoch': 190, 'batch': 0, 'loss': 0.2922793924808502}\n",
      "{'epoch': 191, 'batch': 0, 'loss': 0.2832465171813965}\n",
      "{'epoch': 192, 'batch': 0, 'loss': 0.2767461836338043}\n",
      "{'epoch': 193, 'batch': 0, 'loss': 0.2754670977592468}\n",
      "{'epoch': 194, 'batch': 0, 'loss': 0.2658178508281708}\n",
      "{'epoch': 195, 'batch': 0, 'loss': 0.2633982002735138}\n",
      "{'epoch': 196, 'batch': 0, 'loss': 0.2534799575805664}\n",
      "{'epoch': 197, 'batch': 0, 'loss': 0.253719687461853}\n",
      "{'epoch': 198, 'batch': 0, 'loss': 0.2455873340368271}\n",
      "{'epoch': 199, 'batch': 0, 'loss': 0.25735992193222046}\n",
      "{'epoch': 200, 'batch': 0, 'loss': 0.24328070878982544}\n",
      "{'epoch': 201, 'batch': 0, 'loss': 0.2351929247379303}\n",
      "{'epoch': 202, 'batch': 0, 'loss': 0.23536881804466248}\n",
      "{'epoch': 203, 'batch': 0, 'loss': 0.22648434340953827}\n",
      "{'epoch': 204, 'batch': 0, 'loss': 0.22381660342216492}\n",
      "{'epoch': 205, 'batch': 0, 'loss': 0.22469459474086761}\n",
      "{'epoch': 206, 'batch': 0, 'loss': 0.21848274767398834}\n",
      "{'epoch': 207, 'batch': 0, 'loss': 0.20778261125087738}\n",
      "{'epoch': 208, 'batch': 0, 'loss': 0.21087591350078583}\n",
      "{'epoch': 209, 'batch': 0, 'loss': 0.20485760271549225}\n",
      "{'epoch': 210, 'batch': 0, 'loss': 0.2044306993484497}\n",
      "{'epoch': 211, 'batch': 0, 'loss': 0.19779224693775177}\n",
      "{'epoch': 212, 'batch': 0, 'loss': 0.19502481818199158}\n",
      "{'epoch': 213, 'batch': 0, 'loss': 0.19668006896972656}\n",
      "{'epoch': 214, 'batch': 0, 'loss': 0.19775252044200897}\n",
      "{'epoch': 215, 'batch': 0, 'loss': 0.18149803578853607}\n",
      "{'epoch': 216, 'batch': 0, 'loss': 0.18599405884742737}\n",
      "{'epoch': 217, 'batch': 0, 'loss': 0.1799907237291336}\n",
      "{'epoch': 218, 'batch': 0, 'loss': 0.1742643117904663}\n",
      "{'epoch': 219, 'batch': 0, 'loss': 0.17268112301826477}\n",
      "{'epoch': 220, 'batch': 0, 'loss': 0.17812877893447876}\n",
      "{'epoch': 221, 'batch': 0, 'loss': 0.1747635453939438}\n",
      "{'epoch': 222, 'batch': 0, 'loss': 0.1685272604227066}\n",
      "{'epoch': 223, 'batch': 0, 'loss': 0.17015285789966583}\n",
      "{'epoch': 224, 'batch': 0, 'loss': 0.15938657522201538}\n",
      "{'epoch': 225, 'batch': 0, 'loss': 0.15956689417362213}\n",
      "{'epoch': 226, 'batch': 0, 'loss': 0.16130617260932922}\n",
      "{'epoch': 227, 'batch': 0, 'loss': 0.1596616804599762}\n",
      "{'epoch': 228, 'batch': 0, 'loss': 0.15491296350955963}\n",
      "{'epoch': 229, 'batch': 0, 'loss': 0.15268470346927643}\n",
      "{'epoch': 230, 'batch': 0, 'loss': 0.1503477394580841}\n",
      "{'epoch': 231, 'batch': 0, 'loss': 0.1452900767326355}\n",
      "{'epoch': 232, 'batch': 0, 'loss': 0.14475856721401215}\n",
      "{'epoch': 233, 'batch': 0, 'loss': 0.14513340592384338}\n",
      "{'epoch': 234, 'batch': 0, 'loss': 0.1401171237230301}\n",
      "{'epoch': 235, 'batch': 0, 'loss': 0.14004400372505188}\n",
      "{'epoch': 236, 'batch': 0, 'loss': 0.14307019114494324}\n",
      "{'epoch': 237, 'batch': 0, 'loss': 0.1398053765296936}\n",
      "{'epoch': 238, 'batch': 0, 'loss': 0.1336447298526764}\n",
      "{'epoch': 239, 'batch': 0, 'loss': 0.1308048516511917}\n",
      "{'epoch': 240, 'batch': 0, 'loss': 0.13007888197898865}\n",
      "{'epoch': 241, 'batch': 0, 'loss': 0.1362423598766327}\n",
      "{'epoch': 242, 'batch': 0, 'loss': 0.12656086683273315}\n",
      "{'epoch': 243, 'batch': 0, 'loss': 0.13388805091381073}\n",
      "{'epoch': 244, 'batch': 0, 'loss': 0.1273079514503479}\n",
      "{'epoch': 245, 'batch': 0, 'loss': 0.125366672873497}\n",
      "{'epoch': 246, 'batch': 0, 'loss': 0.12274063378572464}\n",
      "{'epoch': 247, 'batch': 0, 'loss': 0.11826130002737045}\n",
      "{'epoch': 248, 'batch': 0, 'loss': 0.1179315447807312}\n",
      "{'epoch': 249, 'batch': 0, 'loss': 0.11241244524717331}\n",
      "{'epoch': 250, 'batch': 0, 'loss': 0.11598313599824905}\n",
      "{'epoch': 251, 'batch': 0, 'loss': 0.11393267661333084}\n",
      "{'epoch': 252, 'batch': 0, 'loss': 0.11327695101499557}\n",
      "{'epoch': 253, 'batch': 0, 'loss': 0.11480765044689178}\n",
      "{'epoch': 254, 'batch': 0, 'loss': 0.11178664863109589}\n",
      "{'epoch': 255, 'batch': 0, 'loss': 0.11120391637086868}\n",
      "{'epoch': 256, 'batch': 0, 'loss': 0.10614245384931564}\n",
      "{'epoch': 257, 'batch': 0, 'loss': 0.10917878895998001}\n",
      "{'epoch': 258, 'batch': 0, 'loss': 0.1083846315741539}\n",
      "{'epoch': 259, 'batch': 0, 'loss': 0.10376241058111191}\n",
      "{'epoch': 260, 'batch': 0, 'loss': 0.10170353204011917}\n",
      "{'epoch': 261, 'batch': 0, 'loss': 0.09962054342031479}\n",
      "{'epoch': 262, 'batch': 0, 'loss': 0.101704902946949}\n",
      "{'epoch': 263, 'batch': 0, 'loss': 0.0990959107875824}\n",
      "{'epoch': 264, 'batch': 0, 'loss': 0.09652246534824371}\n",
      "{'epoch': 265, 'batch': 0, 'loss': 0.09481634199619293}\n",
      "{'epoch': 266, 'batch': 0, 'loss': 0.09432138502597809}\n",
      "{'epoch': 267, 'batch': 0, 'loss': 0.09465259313583374}\n",
      "{'epoch': 268, 'batch': 0, 'loss': 0.09224625676870346}\n",
      "{'epoch': 269, 'batch': 0, 'loss': 0.09757502377033234}\n",
      "{'epoch': 270, 'batch': 0, 'loss': 0.09458382427692413}\n",
      "{'epoch': 271, 'batch': 0, 'loss': 0.08836745470762253}\n",
      "{'epoch': 272, 'batch': 0, 'loss': 0.08590808510780334}\n",
      "{'epoch': 273, 'batch': 0, 'loss': 0.09157127141952515}\n",
      "{'epoch': 274, 'batch': 0, 'loss': 0.08623944222927094}\n",
      "{'epoch': 275, 'batch': 0, 'loss': 0.08230940997600555}\n",
      "{'epoch': 276, 'batch': 0, 'loss': 0.08193663507699966}\n",
      "{'epoch': 277, 'batch': 0, 'loss': 0.08013029396533966}\n",
      "{'epoch': 278, 'batch': 0, 'loss': 0.08568062633275986}\n",
      "{'epoch': 279, 'batch': 0, 'loss': 0.08356008678674698}\n",
      "{'epoch': 280, 'batch': 0, 'loss': 0.07835675030946732}\n",
      "{'epoch': 281, 'batch': 0, 'loss': 0.08036506921052933}\n",
      "{'epoch': 282, 'batch': 0, 'loss': 0.07915248721837997}\n",
      "{'epoch': 283, 'batch': 0, 'loss': 0.07653425633907318}\n",
      "{'epoch': 284, 'batch': 0, 'loss': 0.07501527667045593}\n",
      "{'epoch': 285, 'batch': 0, 'loss': 0.08069995790719986}\n",
      "{'epoch': 286, 'batch': 0, 'loss': 0.0769207701086998}\n",
      "{'epoch': 287, 'batch': 0, 'loss': 0.07465635985136032}\n",
      "{'epoch': 288, 'batch': 0, 'loss': 0.0763658881187439}\n",
      "{'epoch': 289, 'batch': 0, 'loss': 0.07335353642702103}\n",
      "{'epoch': 290, 'batch': 0, 'loss': 0.07029625028371811}\n",
      "{'epoch': 291, 'batch': 0, 'loss': 0.07236222177743912}\n",
      "{'epoch': 292, 'batch': 0, 'loss': 0.0687696635723114}\n",
      "{'epoch': 293, 'batch': 0, 'loss': 0.06879565119743347}\n",
      "{'epoch': 294, 'batch': 0, 'loss': 0.06813433021306992}\n",
      "{'epoch': 295, 'batch': 0, 'loss': 0.06763522326946259}\n",
      "{'epoch': 296, 'batch': 0, 'loss': 0.06659680604934692}\n",
      "{'epoch': 297, 'batch': 0, 'loss': 0.06522554159164429}\n",
      "{'epoch': 298, 'batch': 0, 'loss': 0.0636596754193306}\n",
      "{'epoch': 299, 'batch': 0, 'loss': 0.06465625017881393}\n",
      "{'epoch': 300, 'batch': 0, 'loss': 0.06390203535556793}\n",
      "{'epoch': 301, 'batch': 0, 'loss': 0.06562255322933197}\n",
      "{'epoch': 302, 'batch': 0, 'loss': 0.0649188980460167}\n",
      "{'epoch': 303, 'batch': 0, 'loss': 0.06372751295566559}\n",
      "{'epoch': 304, 'batch': 0, 'loss': 0.062488287687301636}\n",
      "{'epoch': 305, 'batch': 0, 'loss': 0.05977383255958557}\n",
      "{'epoch': 306, 'batch': 0, 'loss': 0.06023329868912697}\n",
      "{'epoch': 307, 'batch': 0, 'loss': 0.061137426644563675}\n",
      "{'epoch': 308, 'batch': 0, 'loss': 0.05761542171239853}\n",
      "{'epoch': 309, 'batch': 0, 'loss': 0.058520372956991196}\n",
      "{'epoch': 310, 'batch': 0, 'loss': 0.05731852352619171}\n",
      "{'epoch': 311, 'batch': 0, 'loss': 0.05847654864192009}\n",
      "{'epoch': 312, 'batch': 0, 'loss': 0.05983991175889969}\n",
      "{'epoch': 313, 'batch': 0, 'loss': 0.057050954550504684}\n",
      "{'epoch': 314, 'batch': 0, 'loss': 0.05335874855518341}\n",
      "{'epoch': 315, 'batch': 0, 'loss': 0.053123485296964645}\n",
      "{'epoch': 316, 'batch': 0, 'loss': 0.05454372987151146}\n",
      "{'epoch': 317, 'batch': 0, 'loss': 0.05554159730672836}\n",
      "{'epoch': 318, 'batch': 0, 'loss': 0.05182652920484543}\n",
      "{'epoch': 319, 'batch': 0, 'loss': 0.05392605438828468}\n",
      "{'epoch': 320, 'batch': 0, 'loss': 0.05297921225428581}\n",
      "{'epoch': 321, 'batch': 0, 'loss': 0.05150287598371506}\n",
      "{'epoch': 322, 'batch': 0, 'loss': 0.05143282562494278}\n",
      "{'epoch': 323, 'batch': 0, 'loss': 0.052011579275131226}\n",
      "{'epoch': 324, 'batch': 0, 'loss': 0.053987231105566025}\n",
      "{'epoch': 325, 'batch': 0, 'loss': 0.049160171300172806}\n",
      "{'epoch': 326, 'batch': 0, 'loss': 0.0473245345056057}\n",
      "{'epoch': 327, 'batch': 0, 'loss': 0.049704309552907944}\n",
      "{'epoch': 328, 'batch': 0, 'loss': 0.04795476421713829}\n",
      "{'epoch': 329, 'batch': 0, 'loss': 0.04954147711396217}\n",
      "{'epoch': 330, 'batch': 0, 'loss': 0.04290173575282097}\n",
      "{'epoch': 331, 'batch': 0, 'loss': 0.04572837054729462}\n",
      "{'epoch': 332, 'batch': 0, 'loss': 0.04498766362667084}\n",
      "{'epoch': 333, 'batch': 0, 'loss': 0.04596402123570442}\n",
      "{'epoch': 334, 'batch': 0, 'loss': 0.0471494235098362}\n",
      "{'epoch': 335, 'batch': 0, 'loss': 0.04787644371390343}\n",
      "{'epoch': 336, 'batch': 0, 'loss': 0.04790743812918663}\n",
      "{'epoch': 337, 'batch': 0, 'loss': 0.04619750380516052}\n",
      "{'epoch': 338, 'batch': 0, 'loss': 0.04630224406719208}\n",
      "{'epoch': 339, 'batch': 0, 'loss': 0.04390578716993332}\n",
      "{'epoch': 340, 'batch': 0, 'loss': 0.041946034878492355}\n",
      "{'epoch': 341, 'batch': 0, 'loss': 0.043994802981615067}\n",
      "{'epoch': 342, 'batch': 0, 'loss': 0.045060135424137115}\n",
      "{'epoch': 343, 'batch': 0, 'loss': 0.041517626494169235}\n",
      "{'epoch': 344, 'batch': 0, 'loss': 0.04285718873143196}\n",
      "{'epoch': 345, 'batch': 0, 'loss': 0.041526637971401215}\n",
      "{'epoch': 346, 'batch': 0, 'loss': 0.03992078825831413}\n",
      "{'epoch': 347, 'batch': 0, 'loss': 0.040849730372428894}\n",
      "{'epoch': 348, 'batch': 0, 'loss': 0.03970041871070862}\n",
      "{'epoch': 349, 'batch': 0, 'loss': 0.040154919028282166}\n",
      "{'epoch': 350, 'batch': 0, 'loss': 0.038697101175785065}\n",
      "{'epoch': 351, 'batch': 0, 'loss': 0.03825582563877106}\n",
      "{'epoch': 352, 'batch': 0, 'loss': 0.038088615983724594}\n",
      "{'epoch': 353, 'batch': 0, 'loss': 0.04015815630555153}\n",
      "{'epoch': 354, 'batch': 0, 'loss': 0.038691166788339615}\n",
      "{'epoch': 355, 'batch': 0, 'loss': 0.039460960775613785}\n",
      "{'epoch': 356, 'batch': 0, 'loss': 0.03815175220370293}\n",
      "{'epoch': 357, 'batch': 0, 'loss': 0.03819848224520683}\n",
      "{'epoch': 358, 'batch': 0, 'loss': 0.037644121795892715}\n",
      "{'epoch': 359, 'batch': 0, 'loss': 0.036301154643297195}\n",
      "{'epoch': 360, 'batch': 0, 'loss': 0.03657996281981468}\n",
      "{'epoch': 361, 'batch': 0, 'loss': 0.03607691451907158}\n",
      "{'epoch': 362, 'batch': 0, 'loss': 0.035980530083179474}\n",
      "{'epoch': 363, 'batch': 0, 'loss': 0.03576473891735077}\n",
      "{'epoch': 364, 'batch': 0, 'loss': 0.03628018498420715}\n",
      "{'epoch': 365, 'batch': 0, 'loss': 0.03496118262410164}\n",
      "{'epoch': 366, 'batch': 0, 'loss': 0.03541048616170883}\n",
      "{'epoch': 367, 'batch': 0, 'loss': 0.036092158406972885}\n",
      "{'epoch': 368, 'batch': 0, 'loss': 0.03512165695428848}\n",
      "{'epoch': 369, 'batch': 0, 'loss': 0.0352434478700161}\n",
      "{'epoch': 370, 'batch': 0, 'loss': 0.03453712537884712}\n",
      "{'epoch': 371, 'batch': 0, 'loss': 0.03256025165319443}\n",
      "{'epoch': 372, 'batch': 0, 'loss': 0.032274045050144196}\n",
      "{'epoch': 373, 'batch': 0, 'loss': 0.03226626291871071}\n",
      "{'epoch': 374, 'batch': 0, 'loss': 0.03188922628760338}\n",
      "{'epoch': 375, 'batch': 0, 'loss': 0.03407735377550125}\n",
      "{'epoch': 376, 'batch': 0, 'loss': 0.03189995139837265}\n",
      "{'epoch': 377, 'batch': 0, 'loss': 0.0334412083029747}\n",
      "{'epoch': 378, 'batch': 0, 'loss': 0.03265666216611862}\n",
      "{'epoch': 379, 'batch': 0, 'loss': 0.03355799987912178}\n",
      "{'epoch': 380, 'batch': 0, 'loss': 0.030584359541535378}\n",
      "{'epoch': 381, 'batch': 0, 'loss': 0.030946876853704453}\n",
      "{'epoch': 382, 'batch': 0, 'loss': 0.03062983974814415}\n",
      "{'epoch': 383, 'batch': 0, 'loss': 0.03041960671544075}\n",
      "{'epoch': 384, 'batch': 0, 'loss': 0.030570099130272865}\n",
      "{'epoch': 385, 'batch': 0, 'loss': 0.03144140541553497}\n",
      "{'epoch': 386, 'batch': 0, 'loss': 0.03068465180695057}\n",
      "{'epoch': 387, 'batch': 0, 'loss': 0.02872517891228199}\n",
      "{'epoch': 388, 'batch': 0, 'loss': 0.03470843657851219}\n",
      "{'epoch': 389, 'batch': 0, 'loss': 0.02782459557056427}\n",
      "{'epoch': 390, 'batch': 0, 'loss': 0.028368931263685226}\n",
      "{'epoch': 391, 'batch': 0, 'loss': 0.031485918909311295}\n",
      "{'epoch': 392, 'batch': 0, 'loss': 0.028795532882213593}\n",
      "{'epoch': 393, 'batch': 0, 'loss': 0.028575463220477104}\n",
      "{'epoch': 394, 'batch': 0, 'loss': 0.029943527653813362}\n",
      "{'epoch': 395, 'batch': 0, 'loss': 0.02791672758758068}\n",
      "{'epoch': 396, 'batch': 0, 'loss': 0.02838941663503647}\n",
      "{'epoch': 397, 'batch': 0, 'loss': 0.027417819947004318}\n",
      "{'epoch': 398, 'batch': 0, 'loss': 0.027467435225844383}\n",
      "{'epoch': 399, 'batch': 0, 'loss': 0.027523301541805267}\n",
      "{'epoch': 400, 'batch': 0, 'loss': 0.02771047130227089}\n",
      "{'epoch': 401, 'batch': 0, 'loss': 0.02657243236899376}\n",
      "{'epoch': 402, 'batch': 0, 'loss': 0.028811488300561905}\n",
      "{'epoch': 403, 'batch': 0, 'loss': 0.02465161122381687}\n",
      "{'epoch': 404, 'batch': 0, 'loss': 0.025754934176802635}\n",
      "{'epoch': 405, 'batch': 0, 'loss': 0.02748437598347664}\n",
      "{'epoch': 406, 'batch': 0, 'loss': 0.02625281736254692}\n",
      "{'epoch': 407, 'batch': 0, 'loss': 0.026237167418003082}\n",
      "{'epoch': 408, 'batch': 0, 'loss': 0.026044460013508797}\n",
      "{'epoch': 409, 'batch': 0, 'loss': 0.026935946196317673}\n",
      "{'epoch': 410, 'batch': 0, 'loss': 0.026945684105157852}\n",
      "{'epoch': 411, 'batch': 0, 'loss': 0.02447579801082611}\n",
      "{'epoch': 412, 'batch': 0, 'loss': 0.02697051130235195}\n",
      "{'epoch': 413, 'batch': 0, 'loss': 0.024786124005913734}\n",
      "{'epoch': 414, 'batch': 0, 'loss': 0.02751576341688633}\n",
      "{'epoch': 415, 'batch': 0, 'loss': 0.025048257783055305}\n",
      "{'epoch': 416, 'batch': 0, 'loss': 0.024951186031103134}\n",
      "{'epoch': 417, 'batch': 0, 'loss': 0.0253995843231678}\n",
      "{'epoch': 418, 'batch': 0, 'loss': 0.024128131568431854}\n",
      "{'epoch': 419, 'batch': 0, 'loss': 0.025600221008062363}\n",
      "{'epoch': 420, 'batch': 0, 'loss': 0.024133585393428802}\n",
      "{'epoch': 421, 'batch': 0, 'loss': 0.02488696575164795}\n",
      "{'epoch': 422, 'batch': 0, 'loss': 0.023177161812782288}\n",
      "{'epoch': 423, 'batch': 0, 'loss': 0.023980293422937393}\n",
      "{'epoch': 424, 'batch': 0, 'loss': 0.022802861407399178}\n",
      "{'epoch': 425, 'batch': 0, 'loss': 0.023143932223320007}\n",
      "{'epoch': 426, 'batch': 0, 'loss': 0.02359568513929844}\n",
      "{'epoch': 427, 'batch': 0, 'loss': 0.025020260363817215}\n",
      "{'epoch': 428, 'batch': 0, 'loss': 0.021488536149263382}\n",
      "{'epoch': 429, 'batch': 0, 'loss': 0.023190828040242195}\n",
      "{'epoch': 430, 'batch': 0, 'loss': 0.023530660197138786}\n",
      "{'epoch': 431, 'batch': 0, 'loss': 0.022204363718628883}\n",
      "{'epoch': 432, 'batch': 0, 'loss': 0.02327067218720913}\n",
      "{'epoch': 433, 'batch': 0, 'loss': 0.022396104410290718}\n",
      "{'epoch': 434, 'batch': 0, 'loss': 0.024406397715210915}\n",
      "{'epoch': 435, 'batch': 0, 'loss': 0.02331812120974064}\n",
      "{'epoch': 436, 'batch': 0, 'loss': 0.021844159811735153}\n",
      "{'epoch': 437, 'batch': 0, 'loss': 0.02362274006009102}\n",
      "{'epoch': 438, 'batch': 0, 'loss': 0.02152416482567787}\n",
      "{'epoch': 439, 'batch': 0, 'loss': 0.023850595578551292}\n",
      "{'epoch': 440, 'batch': 0, 'loss': 0.020856235176324844}\n",
      "{'epoch': 441, 'batch': 0, 'loss': 0.02246076427400112}\n",
      "{'epoch': 442, 'batch': 0, 'loss': 0.02139858528971672}\n",
      "{'epoch': 443, 'batch': 0, 'loss': 0.022185413166880608}\n",
      "{'epoch': 444, 'batch': 0, 'loss': 0.022527506574988365}\n",
      "{'epoch': 445, 'batch': 0, 'loss': 0.021343249827623367}\n",
      "{'epoch': 446, 'batch': 0, 'loss': 0.020477138459682465}\n",
      "{'epoch': 447, 'batch': 0, 'loss': 0.02282005362212658}\n",
      "{'epoch': 448, 'batch': 0, 'loss': 0.020531773567199707}\n",
      "{'epoch': 449, 'batch': 0, 'loss': 0.02069135755300522}\n",
      "{'epoch': 450, 'batch': 0, 'loss': 0.02008114755153656}\n",
      "{'epoch': 451, 'batch': 0, 'loss': 0.02036944404244423}\n",
      "{'epoch': 452, 'batch': 0, 'loss': 0.021642712876200676}\n",
      "{'epoch': 453, 'batch': 0, 'loss': 0.02078610472381115}\n",
      "{'epoch': 454, 'batch': 0, 'loss': 0.020775649696588516}\n",
      "{'epoch': 455, 'batch': 0, 'loss': 0.019758587703108788}\n",
      "{'epoch': 456, 'batch': 0, 'loss': 0.019942987710237503}\n",
      "{'epoch': 457, 'batch': 0, 'loss': 0.02038373239338398}\n",
      "{'epoch': 458, 'batch': 0, 'loss': 0.020826835185289383}\n",
      "{'epoch': 459, 'batch': 0, 'loss': 0.01966222934424877}\n",
      "{'epoch': 460, 'batch': 0, 'loss': 0.018724000081419945}\n",
      "{'epoch': 461, 'batch': 0, 'loss': 0.02030639350414276}\n",
      "{'epoch': 462, 'batch': 0, 'loss': 0.01946484111249447}\n",
      "{'epoch': 463, 'batch': 0, 'loss': 0.018390655517578125}\n",
      "{'epoch': 464, 'batch': 0, 'loss': 0.018961191177368164}\n",
      "{'epoch': 465, 'batch': 0, 'loss': 0.01799267902970314}\n",
      "{'epoch': 466, 'batch': 0, 'loss': 0.019937891513109207}\n",
      "{'epoch': 467, 'batch': 0, 'loss': 0.018932359293103218}\n",
      "{'epoch': 468, 'batch': 0, 'loss': 0.019018227234482765}\n",
      "{'epoch': 469, 'batch': 0, 'loss': 0.018936317414045334}\n",
      "{'epoch': 470, 'batch': 0, 'loss': 0.018906589597463608}\n",
      "{'epoch': 471, 'batch': 0, 'loss': 0.018898198381066322}\n",
      "{'epoch': 472, 'batch': 0, 'loss': 0.019494054839015007}\n",
      "{'epoch': 473, 'batch': 0, 'loss': 0.01815531775355339}\n",
      "{'epoch': 474, 'batch': 0, 'loss': 0.018382903188467026}\n",
      "{'epoch': 475, 'batch': 0, 'loss': 0.01859786920249462}\n",
      "{'epoch': 476, 'batch': 0, 'loss': 0.017791487276554108}\n",
      "{'epoch': 477, 'batch': 0, 'loss': 0.01760527677834034}\n",
      "{'epoch': 478, 'batch': 0, 'loss': 0.01865105889737606}\n",
      "{'epoch': 479, 'batch': 0, 'loss': 0.019143544137477875}\n",
      "{'epoch': 480, 'batch': 0, 'loss': 0.01903139054775238}\n",
      "{'epoch': 481, 'batch': 0, 'loss': 0.017404217272996902}\n",
      "{'epoch': 482, 'batch': 0, 'loss': 0.018266823142766953}\n",
      "{'epoch': 483, 'batch': 0, 'loss': 0.01743294484913349}\n",
      "{'epoch': 484, 'batch': 0, 'loss': 0.017446553334593773}\n",
      "{'epoch': 485, 'batch': 0, 'loss': 0.01719619706273079}\n",
      "{'epoch': 486, 'batch': 0, 'loss': 0.01812385581433773}\n",
      "{'epoch': 487, 'batch': 0, 'loss': 0.01772056147456169}\n",
      "{'epoch': 488, 'batch': 0, 'loss': 0.01753488928079605}\n",
      "{'epoch': 489, 'batch': 0, 'loss': 0.017827849835157394}\n",
      "{'epoch': 490, 'batch': 0, 'loss': 0.017035145312547684}\n",
      "{'epoch': 491, 'batch': 0, 'loss': 0.01773374155163765}\n",
      "{'epoch': 492, 'batch': 0, 'loss': 0.016789918765425682}\n",
      "{'epoch': 493, 'batch': 0, 'loss': 0.017092401161789894}\n",
      "{'epoch': 494, 'batch': 0, 'loss': 0.017284318804740906}\n",
      "{'epoch': 495, 'batch': 0, 'loss': 0.016435083001852036}\n",
      "{'epoch': 496, 'batch': 0, 'loss': 0.01748141087591648}\n",
      "{'epoch': 497, 'batch': 0, 'loss': 0.016950607299804688}\n",
      "{'epoch': 498, 'batch': 0, 'loss': 0.017061633989214897}\n",
      "{'epoch': 499, 'batch': 0, 'loss': 0.01716001331806183}\n"
     ]
    }
   ],
   "source": [
    "%reload_ext autoreload\n",
    "\n",
    "model = utils.LSTMModel(50, 300, len(vocab), device, 1).cuda()\n",
    "model = model.to(device)\n",
    "utils.train_loop(model, train_data_batched, batch_size=5)"
   ],
   "metadata": {
    "collapsed": false,
    "pycharm": {
     "name": "#%%\n"
    }
   }
  },
  {
   "cell_type": "code",
   "execution_count": 25,
   "outputs": [],
   "source": [
    "text = utils.generate_text(model,device, dataset.vocab, 'საგარეო პოლიტიკა', 20)"
   ],
   "metadata": {
    "collapsed": false,
    "pycharm": {
     "name": "#%%\n"
    }
   }
  },
  {
   "cell_type": "code",
   "execution_count": 26,
   "outputs": [
    {
     "name": "stdout",
     "output_type": "stream",
     "text": [
      "საგარეო პოლიტიკა ჰიროსიმისა აღმავლობა ვუკოვარზე დედოფალ ლიკვიდატორებისა , კირქვისა და და ანდეზიტ-ბაზალტის საბადო . მამია IV გურიელი სამრეკლოს სამრეკლოს და გურიელი სამრეკლოს\n"
     ]
    }
   ],
   "source": [
    "print(text)"
   ],
   "metadata": {
    "collapsed": false,
    "pycharm": {
     "name": "#%%\n"
    }
   }
  },
  {
   "cell_type": "code",
   "execution_count": 16,
   "outputs": [],
   "source": [
    "torch.cuda.empty_cache()"
   ],
   "metadata": {
    "collapsed": false,
    "pycharm": {
     "name": "#%%\n"
    }
   }
  },
  {
   "cell_type": "code",
   "execution_count": 17,
   "outputs": [],
   "source": [
    "# geo_model = utils.GeorgianFastTextModel(load=True)\n",
    "# geo_model.train(\"../data/data_115000.txt\")"
   ],
   "metadata": {
    "collapsed": false,
    "pycharm": {
     "name": "#%%\n"
    }
   }
  },
  {
   "cell_type": "code",
   "execution_count": 18,
   "outputs": [],
   "source": [
    "# embeddings = torch.FloatTensor(geo_model.get_model().wv.vectors)\n",
    "# embeddings.shape"
   ],
   "metadata": {
    "collapsed": false,
    "pycharm": {
     "name": "#%%\n"
    }
   }
  },
  {
   "cell_type": "code",
   "execution_count": 19,
   "outputs": [],
   "source": [
    "# %reload_ext autoreload\n",
    "#\n",
    "# model = utils.LSTMModel(128, 600, len(vocab), device, num_layers=1, embeddings=embeddings).cuda()\n",
    "# model = model.to(device)\n",
    "# utils.train_loop(model, train_data_batched, batch_size=5)"
   ],
   "metadata": {
    "collapsed": false,
    "pycharm": {
     "name": "#%%\n"
    }
   }
  },
  {
   "cell_type": "code",
   "execution_count": 20,
   "outputs": [],
   "source": [
    "# import torchtext\n",
    "# v = torchtext.vocab.vocab(geo_model.get_model().wv.key_to_index, specials=['<unk>'])\n",
    "# v.set_default_index(v['<unk>'])\n",
    "# # dataset.vocab.load_state_dict(geo_model.get_model().wv.key_to_index)\n",
    "# text = utils.generate_text(model,device, v, 'საგაერო პოლიტიკა', 10)"
   ],
   "metadata": {
    "collapsed": false,
    "pycharm": {
     "name": "#%%\n"
    }
   }
  },
  {
   "cell_type": "code",
   "execution_count": 21,
   "outputs": [],
   "source": [
    "# print(text)"
   ],
   "metadata": {
    "collapsed": false,
    "pycharm": {
     "name": "#%%\n"
    }
   }
  },
  {
   "cell_type": "code",
   "execution_count": 21,
   "outputs": [],
   "source": [],
   "metadata": {
    "collapsed": false,
    "pycharm": {
     "name": "#%%\n"
    }
   }
  }
 ],
 "metadata": {
  "kernelspec": {
   "display_name": "Python 3 (ipykernel)",
   "language": "python",
   "name": "python3"
  },
  "language_info": {
   "codemirror_mode": {
    "name": "ipython",
    "version": 3
   },
   "file_extension": ".py",
   "mimetype": "text/x-python",
   "name": "python",
   "nbconvert_exporter": "python",
   "pygments_lexer": "ipython3",
   "version": "3.10.5"
  }
 },
 "nbformat": 4,
 "nbformat_minor": 1
}