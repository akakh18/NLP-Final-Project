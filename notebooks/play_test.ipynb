{
 "cells": [
  {
   "cell_type": "markdown",
   "source": [
    "#### **Import modules**"
   ],
   "metadata": {
    "collapsed": false,
    "pycharm": {
     "name": "#%% md\n"
    }
   }
  },
  {
   "cell_type": "code",
   "execution_count": 9,
   "outputs": [],
   "source": [
    "import re\n",
    "from typing import List\n",
    "\n",
    "from gensim.models import Word2Vec\n",
    "\n",
    "from utils import GeorgianWord2Vec"
   ],
   "metadata": {
    "collapsed": false,
    "pycharm": {
     "name": "#%%\n"
    }
   }
  },
  {
   "cell_type": "markdown",
   "source": [
    "#### **Init word2vec model**"
   ],
   "metadata": {
    "collapsed": false,
    "pycharm": {
     "name": "#%% md\n"
    }
   }
  },
  {
   "cell_type": "code",
   "execution_count": 3,
   "outputs": [],
   "source": [
    "texts = [[\"გამარჯობა\", \"როგორ\", \"ხარ?\"], [\"რავი\", \"კარგად\", \"შენ?\"]]\n",
    "\n",
    "model = Word2Vec(sentences=texts, vector_size=100, window=5, min_count=1, workers=4)\n",
    "\n",
    "model.save(\"word2vec.model\")"
   ],
   "metadata": {
    "collapsed": false,
    "pycharm": {
     "name": "#%%\n"
    }
   }
  },
  {
   "cell_type": "markdown",
   "source": [
    "## **Convert file into input format**\n",
    "\n",
    "word2vec model gets list of list of strings as an input"
   ],
   "metadata": {
    "collapsed": false,
    "pycharm": {
     "name": "#%% md\n"
    }
   }
  },
  {
   "cell_type": "code",
   "execution_count": 4,
   "outputs": [],
   "source": [
    "def convert_file_into_input(file_path: str) -> List[List[str]]:\n",
    "    sentences_split_regex = \"\\. |!|\\?\"\n",
    "    with open(file_path, 'r') as f:\n",
    "        data = f.read()\n",
    "    sentences = re.split(sentences_split_regex, data)\n",
    "\n",
    "    fn = lambda s: len(s) > 0\n",
    "    return list(\n",
    "        filter(fn, [list(filter(fn, [word.strip() for word in sentence.split(\" \")])) for sentence in sentences]))"
   ],
   "metadata": {
    "collapsed": false,
    "pycharm": {
     "name": "#%%\n"
    }
   }
  },
  {
   "cell_type": "code",
   "execution_count": 35,
   "outputs": [
    {
     "name": "stdout",
     "output_type": "stream",
     "text": [
      "[['ბუნებრივი', 'ენის', 'ტექსტების', 'კომპიუტერული', 'დამუშავება', '—', 'თანამედროვე', 'საინფორმაციო', 'ტექნოლოგიების', 'ერთ-ერთი', 'მიმართულება.\\nიგი', 'გულისხმობს:', 'მართლწერის', 'ავტომატურ', 'შემოწმებას;', 'მანქანურ', 'თარგმანს;', 'საძიებო', 'სისტემებს,', 'რომელთა', 'მეშვეობითაც', 'შესაძლებელია\\nსიტყვის', 'სხვადასხვა', 'ფორმების', 'მოძებნა', 'ბაზაში;', 'ბუნებრივ', 'ენაზე', 'დიალოგურ', 'რეჟიმში', 'მომუშავე', 'პროგრამებს;', 'ტექსტების\\nმრავალმიზნობრივ', 'მორფოლოგიურ,', 'სინტაქსურ', 'და', 'სემანტიკურ', 'ანალიზს;', 'ენის', 'სწავლებისათვის', 'განკუთვნილ', 'სავარჯიშო', 'ტრენაჟორებს', 'და\\nსხვას.']]\n"
     ]
    }
   ],
   "source": [
    "print(convert_file_into_input(\"test.txt\"))"
   ],
   "metadata": {
    "collapsed": false,
    "pycharm": {
     "name": "#%%\n"
    }
   }
  },
  {
   "cell_type": "code",
   "execution_count": 6,
   "outputs": [
    {
     "ename": "KeyError",
     "evalue": "\"Key 'ავთო' not present\"",
     "output_type": "error",
     "traceback": [
      "\u001B[0;31m---------------------------------------------------------------------------\u001B[0m",
      "\u001B[0;31mKeyError\u001B[0m                                  Traceback (most recent call last)",
      "\u001B[0;32m/tmp/ipykernel_20815/3391250260.py\u001B[0m in \u001B[0;36m<module>\u001B[0;34m\u001B[0m\n\u001B[0;32m----> 1\u001B[0;31m \u001B[0mprint\u001B[0m\u001B[0;34m(\u001B[0m\u001B[0mmodel\u001B[0m\u001B[0;34m.\u001B[0m\u001B[0mwv\u001B[0m\u001B[0;34m[\u001B[0m\u001B[0;34m\"ავთო\"\u001B[0m\u001B[0;34m]\u001B[0m\u001B[0;34m)\u001B[0m\u001B[0;34m\u001B[0m\u001B[0;34m\u001B[0m\u001B[0m\n\u001B[0m",
      "\u001B[0;32m/usr/local/lib/python3.8/dist-packages/gensim/models/keyedvectors.py\u001B[0m in \u001B[0;36m__getitem__\u001B[0;34m(self, key_or_keys)\u001B[0m\n\u001B[1;32m    402\u001B[0m         \"\"\"\n\u001B[1;32m    403\u001B[0m         \u001B[0;32mif\u001B[0m \u001B[0misinstance\u001B[0m\u001B[0;34m(\u001B[0m\u001B[0mkey_or_keys\u001B[0m\u001B[0;34m,\u001B[0m \u001B[0m_KEY_TYPES\u001B[0m\u001B[0;34m)\u001B[0m\u001B[0;34m:\u001B[0m\u001B[0;34m\u001B[0m\u001B[0;34m\u001B[0m\u001B[0m\n\u001B[0;32m--> 404\u001B[0;31m             \u001B[0;32mreturn\u001B[0m \u001B[0mself\u001B[0m\u001B[0;34m.\u001B[0m\u001B[0mget_vector\u001B[0m\u001B[0;34m(\u001B[0m\u001B[0mkey_or_keys\u001B[0m\u001B[0;34m)\u001B[0m\u001B[0;34m\u001B[0m\u001B[0;34m\u001B[0m\u001B[0m\n\u001B[0m\u001B[1;32m    405\u001B[0m \u001B[0;34m\u001B[0m\u001B[0m\n\u001B[1;32m    406\u001B[0m         \u001B[0;32mreturn\u001B[0m \u001B[0mvstack\u001B[0m\u001B[0;34m(\u001B[0m\u001B[0;34m[\u001B[0m\u001B[0mself\u001B[0m\u001B[0;34m.\u001B[0m\u001B[0mget_vector\u001B[0m\u001B[0;34m(\u001B[0m\u001B[0mkey\u001B[0m\u001B[0;34m)\u001B[0m \u001B[0;32mfor\u001B[0m \u001B[0mkey\u001B[0m \u001B[0;32min\u001B[0m \u001B[0mkey_or_keys\u001B[0m\u001B[0;34m]\u001B[0m\u001B[0;34m)\u001B[0m\u001B[0;34m\u001B[0m\u001B[0;34m\u001B[0m\u001B[0m\n",
      "\u001B[0;32m/usr/local/lib/python3.8/dist-packages/gensim/models/keyedvectors.py\u001B[0m in \u001B[0;36mget_vector\u001B[0;34m(self, key, norm)\u001B[0m\n\u001B[1;32m    445\u001B[0m \u001B[0;34m\u001B[0m\u001B[0m\n\u001B[1;32m    446\u001B[0m         \"\"\"\n\u001B[0;32m--> 447\u001B[0;31m         \u001B[0mindex\u001B[0m \u001B[0;34m=\u001B[0m \u001B[0mself\u001B[0m\u001B[0;34m.\u001B[0m\u001B[0mget_index\u001B[0m\u001B[0;34m(\u001B[0m\u001B[0mkey\u001B[0m\u001B[0;34m)\u001B[0m\u001B[0;34m\u001B[0m\u001B[0;34m\u001B[0m\u001B[0m\n\u001B[0m\u001B[1;32m    448\u001B[0m         \u001B[0;32mif\u001B[0m \u001B[0mnorm\u001B[0m\u001B[0;34m:\u001B[0m\u001B[0;34m\u001B[0m\u001B[0;34m\u001B[0m\u001B[0m\n\u001B[1;32m    449\u001B[0m             \u001B[0mself\u001B[0m\u001B[0;34m.\u001B[0m\u001B[0mfill_norms\u001B[0m\u001B[0;34m(\u001B[0m\u001B[0;34m)\u001B[0m\u001B[0;34m\u001B[0m\u001B[0;34m\u001B[0m\u001B[0m\n",
      "\u001B[0;32m/usr/local/lib/python3.8/dist-packages/gensim/models/keyedvectors.py\u001B[0m in \u001B[0;36mget_index\u001B[0;34m(self, key, default)\u001B[0m\n\u001B[1;32m    419\u001B[0m             \u001B[0;32mreturn\u001B[0m \u001B[0mdefault\u001B[0m\u001B[0;34m\u001B[0m\u001B[0;34m\u001B[0m\u001B[0m\n\u001B[1;32m    420\u001B[0m         \u001B[0;32melse\u001B[0m\u001B[0;34m:\u001B[0m\u001B[0;34m\u001B[0m\u001B[0;34m\u001B[0m\u001B[0m\n\u001B[0;32m--> 421\u001B[0;31m             \u001B[0;32mraise\u001B[0m \u001B[0mKeyError\u001B[0m\u001B[0;34m(\u001B[0m\u001B[0;34mf\"Key '{key}' not present\"\u001B[0m\u001B[0;34m)\u001B[0m\u001B[0;34m\u001B[0m\u001B[0;34m\u001B[0m\u001B[0m\n\u001B[0m\u001B[1;32m    422\u001B[0m \u001B[0;34m\u001B[0m\u001B[0m\n\u001B[1;32m    423\u001B[0m     \u001B[0;32mdef\u001B[0m \u001B[0mget_vector\u001B[0m\u001B[0;34m(\u001B[0m\u001B[0mself\u001B[0m\u001B[0;34m,\u001B[0m \u001B[0mkey\u001B[0m\u001B[0;34m,\u001B[0m \u001B[0mnorm\u001B[0m\u001B[0;34m=\u001B[0m\u001B[0;32mFalse\u001B[0m\u001B[0;34m)\u001B[0m\u001B[0;34m:\u001B[0m\u001B[0;34m\u001B[0m\u001B[0;34m\u001B[0m\u001B[0m\n",
      "\u001B[0;31mKeyError\u001B[0m: \"Key 'ავთო' not present\""
     ]
    }
   ],
   "source": [
    "print(model.wv[\"ავთო\"])"
   ],
   "metadata": {
    "collapsed": false,
    "pycharm": {
     "name": "#%%\n"
    }
   }
  },
  {
   "cell_type": "code",
   "execution_count": 10,
   "outputs": [],
   "source": [
    "georgian_model = GeorgianWord2Vec()"
   ],
   "metadata": {
    "collapsed": false,
    "pycharm": {
     "name": "#%%\n"
    }
   }
  },
  {
   "cell_type": "code",
   "execution_count": 11,
   "outputs": [
    {
     "data": {
      "text/plain": "array([-8.7274825e-03,  2.1301615e-03, -8.7354420e-04, -9.3190884e-03,\n       -9.4281426e-03, -1.4107180e-03,  4.4324086e-03,  3.7040710e-03,\n       -6.4986930e-03, -6.8730675e-03, -4.9994122e-03, -2.2868442e-03,\n       -7.2502876e-03, -9.6033178e-03, -2.7436293e-03, -8.3628409e-03,\n       -6.0388758e-03, -5.6709289e-03, -2.3441375e-03, -1.7069972e-03,\n       -8.9569986e-03, -7.3519943e-04,  8.1525063e-03,  7.6904297e-03,\n       -7.2061159e-03, -3.6668312e-03,  3.1185520e-03, -9.5707225e-03,\n        1.4764392e-03,  6.5244664e-03,  5.7464195e-03, -8.7630618e-03,\n       -4.5171441e-03, -8.1401607e-03,  4.5956374e-05,  9.2636338e-03,\n        5.9733056e-03,  5.0673080e-03,  5.0610625e-03, -3.2429171e-03,\n        9.5521836e-03, -7.3564244e-03, -7.2703874e-03, -2.2653891e-03,\n       -7.7856064e-04, -3.2161034e-03, -5.9258583e-04,  7.4888230e-03,\n       -6.9751858e-04, -1.6249407e-03,  2.7443992e-03, -8.3591007e-03,\n        7.8558037e-03,  8.5361041e-03, -9.5840869e-03,  2.4462664e-03,\n        9.9049713e-03, -7.6658037e-03, -6.9669187e-03, -7.7365171e-03,\n        8.3959233e-03, -6.8133592e-04,  9.1444086e-03, -8.1582209e-03,\n        3.7430846e-03,  2.6350426e-03,  7.4271322e-04,  2.3276759e-03,\n       -7.4690939e-03, -9.3583735e-03,  2.3545765e-03,  6.1484552e-03,\n        7.9856887e-03,  5.7358947e-03, -7.7733636e-04,  8.3061643e-03,\n       -9.3363142e-03,  3.4061326e-03,  2.6675343e-04,  3.8572443e-03,\n        7.3857834e-03, -6.7251669e-03,  5.5844807e-03, -9.5222248e-03,\n       -8.0445886e-04, -8.6887367e-03, -5.0986730e-03,  9.2892265e-03,\n       -1.8582619e-03,  2.9144264e-03,  9.0712793e-03,  8.9381328e-03,\n       -8.2084350e-03, -3.0123137e-03,  9.8866057e-03,  5.1044310e-03,\n       -1.5880871e-03, -8.6920215e-03,  2.9615164e-03, -6.6758976e-03],\n      dtype=float32)"
     },
     "execution_count": 11,
     "metadata": {},
     "output_type": "execute_result"
    }
   ],
   "source": [
    "georgian_model.get_model().wv[\"გამარჯობა\"]"
   ],
   "metadata": {
    "collapsed": false,
    "pycharm": {
     "name": "#%%\n"
    }
   }
  }
 ],
 "metadata": {
  "kernelspec": {
   "display_name": "Python 3",
   "language": "python",
   "name": "python3"
  },
  "language_info": {
   "codemirror_mode": {
    "name": "ipython",
    "version": 2
   },
   "file_extension": ".py",
   "mimetype": "text/x-python",
   "name": "python",
   "nbconvert_exporter": "python",
   "pygments_lexer": "ipython2",
   "version": "2.7.6"
  }
 },
 "nbformat": 4,
 "nbformat_minor": 0
}