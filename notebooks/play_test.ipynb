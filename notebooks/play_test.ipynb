{
 "cells": [
  {
   "cell_type": "markdown",
   "source": [
    "#### **Import modules**"
   ],
   "metadata": {
    "collapsed": false,
    "pycharm": {
     "name": "#%% md\n"
    }
   }
  },
  {
   "cell_type": "code",
   "execution_count": 18,
   "outputs": [],
   "source": [
    "import re\n",
    "from typing import List\n",
    "\n",
    "from gensim.models import Word2Vec"
   ],
   "metadata": {
    "collapsed": false,
    "pycharm": {
     "name": "#%%\n"
    }
   }
  },
  {
   "cell_type": "markdown",
   "source": [
    "#### **Init word2vec model**"
   ],
   "metadata": {
    "collapsed": false,
    "pycharm": {
     "name": "#%% md\n"
    }
   }
  },
  {
   "cell_type": "code",
   "execution_count": 2,
   "outputs": [],
   "source": [
    "texts = [[\"გამარჯობა\", \"როგორ\", \"ხარ?\"], [\"რავი\", \"კარგად\", \"შენ?\"]]\n",
    "\n",
    "model = Word2Vec(sentences=texts, vector_size=100, window=5, min_count=1, workers=4)\n",
    "\n",
    "model.save(\"word2vec.model\")"
   ],
   "metadata": {
    "collapsed": false,
    "pycharm": {
     "name": "#%%\n"
    }
   }
  },
  {
   "cell_type": "markdown",
   "source": [
    "## **Convert file into input format**\n",
    "\n",
    "word2vec model gets list of list of strings as an input"
   ],
   "metadata": {
    "collapsed": false,
    "pycharm": {
     "name": "#%% md\n"
    }
   }
  },
  {
   "cell_type": "code",
   "execution_count": 34,
   "outputs": [],
   "source": [
    "def convert_file_into_input(file_path: str) -> List[List[str]]:\n",
    "    sentences_split_regex = \"\\. |!|\\?\"\n",
    "    with open(file_path, 'r') as f:\n",
    "        data = f.read()\n",
    "    sentences = re.split(sentences_split_regex, data)\n",
    "\n",
    "    fn = lambda s: len(s) > 0\n",
    "    return list(\n",
    "        filter(fn, [list(filter(fn, [word.strip() for word in sentence.split(\" \")])) for sentence in sentences]))"
   ],
   "metadata": {
    "collapsed": false,
    "pycharm": {
     "name": "#%%\n"
    }
   }
  },
  {
   "cell_type": "code",
   "execution_count": 35,
   "outputs": [
    {
     "name": "stdout",
     "output_type": "stream",
     "text": [
      "[['ბუნებრივი', 'ენის', 'ტექსტების', 'კომპიუტერული', 'დამუშავება', '—', 'თანამედროვე', 'საინფორმაციო', 'ტექნოლოგიების', 'ერთ-ერთი', 'მიმართულება.\\nიგი', 'გულისხმობს:', 'მართლწერის', 'ავტომატურ', 'შემოწმებას;', 'მანქანურ', 'თარგმანს;', 'საძიებო', 'სისტემებს,', 'რომელთა', 'მეშვეობითაც', 'შესაძლებელია\\nსიტყვის', 'სხვადასხვა', 'ფორმების', 'მოძებნა', 'ბაზაში;', 'ბუნებრივ', 'ენაზე', 'დიალოგურ', 'რეჟიმში', 'მომუშავე', 'პროგრამებს;', 'ტექსტების\\nმრავალმიზნობრივ', 'მორფოლოგიურ,', 'სინტაქსურ', 'და', 'სემანტიკურ', 'ანალიზს;', 'ენის', 'სწავლებისათვის', 'განკუთვნილ', 'სავარჯიშო', 'ტრენაჟორებს', 'და\\nსხვას.']]\n"
     ]
    }
   ],
   "source": [
    "print(convert_file_into_input(\"test.txt\"))"
   ],
   "metadata": {
    "collapsed": false,
    "pycharm": {
     "name": "#%%\n"
    }
   }
  }
 ],
 "metadata": {
  "kernelspec": {
   "display_name": "Python 3",
   "language": "python",
   "name": "python3"
  },
  "language_info": {
   "codemirror_mode": {
    "name": "ipython",
    "version": 2
   },
   "file_extension": ".py",
   "mimetype": "text/x-python",
   "name": "python",
   "nbconvert_exporter": "python",
   "pygments_lexer": "ipython2",
   "version": "2.7.6"
  }
 },
 "nbformat": 4,
 "nbformat_minor": 0
}