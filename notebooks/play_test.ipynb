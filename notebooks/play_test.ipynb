{
 "cells": [
  {
   "cell_type": "markdown",
   "source": [
    "#### **Import modules**"
   ],
   "metadata": {
    "collapsed": false,
    "pycharm": {
     "name": "#%% md\n"
    }
   }
  },
  {
   "cell_type": "code",
   "execution_count": 2,
   "outputs": [],
   "source": [
    "import re\n",
    "from typing import List\n",
    "\n",
    "from gensim.models import Word2Vec\n",
    "from nltk import tokenize\n",
    "\n",
    "from utils import GeorgianWord2Vec"
   ],
   "metadata": {
    "collapsed": false,
    "pycharm": {
     "name": "#%%\n"
    }
   }
  },
  {
   "cell_type": "markdown",
   "source": [
    "#### **Init word2vec model**"
   ],
   "metadata": {
    "collapsed": false,
    "pycharm": {
     "name": "#%% md\n"
    }
   }
  },
  {
   "cell_type": "code",
   "execution_count": 39,
   "outputs": [],
   "source": [
    "texts = [[\"გამარჯობა\", \"როგორ\", \"ხარ?\"], [\"რავი\", \"კარგად\", \"შენ?\"]]\n",
    "\n",
    "model = Word2Vec(sentences=texts, vector_size=100, window=5, min_count=1, workers=4)\n",
    "\n",
    "model.save(\"word2vec.model\")"
   ],
   "metadata": {
    "collapsed": false,
    "pycharm": {
     "name": "#%%\n"
    }
   }
  },
  {
   "cell_type": "markdown",
   "source": [
    "## **Convert file into input format**\n",
    "\n",
    "word2vec model gets list of list of strings as an input"
   ],
   "metadata": {
    "collapsed": false,
    "pycharm": {
     "name": "#%% md\n"
    }
   }
  },
  {
   "cell_type": "code",
   "execution_count": 40,
   "outputs": [],
   "source": [
    "def convert_file_into_input(file_path: str) -> List[List[str]]:\n",
    "    sentences_split_regex = \"\\. |!|\\?\"\n",
    "    with open(file_path, 'r') as f:\n",
    "        data = f.read()\n",
    "    sentences = re.split(sentences_split_regex, data)\n",
    "\n",
    "    fn = lambda s: len(s) > 0\n",
    "    return list(\n",
    "        filter(fn, [list(filter(fn, [word.strip() for word in sentence.split(\" \")])) for sentence in sentences]))"
   ],
   "metadata": {
    "collapsed": false,
    "pycharm": {
     "name": "#%%\n"
    }
   }
  },
  {
   "cell_type": "code",
   "execution_count": 35,
   "outputs": [
    {
     "name": "stdout",
     "output_type": "stream",
     "text": [
      "[['ბუნებრივი', 'ენის', 'ტექსტების', 'კომპიუტერული', 'დამუშავება', '—', 'თანამედროვე', 'საინფორმაციო', 'ტექნოლოგიების', 'ერთ-ერთი', 'მიმართულება.\\nიგი', 'გულისხმობს:', 'მართლწერის', 'ავტომატურ', 'შემოწმებას;', 'მანქანურ', 'თარგმანს;', 'საძიებო', 'სისტემებს,', 'რომელთა', 'მეშვეობითაც', 'შესაძლებელია\\nსიტყვის', 'სხვადასხვა', 'ფორმების', 'მოძებნა', 'ბაზაში;', 'ბუნებრივ', 'ენაზე', 'დიალოგურ', 'რეჟიმში', 'მომუშავე', 'პროგრამებს;', 'ტექსტების\\nმრავალმიზნობრივ', 'მორფოლოგიურ,', 'სინტაქსურ', 'და', 'სემანტიკურ', 'ანალიზს;', 'ენის', 'სწავლებისათვის', 'განკუთვნილ', 'სავარჯიშო', 'ტრენაჟორებს', 'და\\nსხვას.']]\n"
     ]
    }
   ],
   "source": [
    "print(convert_file_into_input(\"test.txt\"))"
   ],
   "metadata": {
    "collapsed": false,
    "pycharm": {
     "name": "#%%\n"
    }
   }
  },
  {
   "cell_type": "code",
   "execution_count": 2,
   "outputs": [
    {
     "ename": "NameError",
     "evalue": "name 'model' is not defined",
     "output_type": "error",
     "traceback": [
      "\u001B[0;31m---------------------------------------------------------------------------\u001B[0m",
      "\u001B[0;31mNameError\u001B[0m                                 Traceback (most recent call last)",
      "\u001B[0;32m/tmp/ipykernel_51890/2736181436.py\u001B[0m in \u001B[0;36m<module>\u001B[0;34m\u001B[0m\n\u001B[0;32m----> 1\u001B[0;31m \u001B[0mprint\u001B[0m\u001B[0;34m(\u001B[0m\u001B[0mmodel\u001B[0m\u001B[0;34m.\u001B[0m\u001B[0mwv\u001B[0m\u001B[0;34m[\u001B[0m\u001B[0;34m\"ავთო\"\u001B[0m\u001B[0;34m]\u001B[0m\u001B[0;34m)\u001B[0m\u001B[0;34m\u001B[0m\u001B[0;34m\u001B[0m\u001B[0m\n\u001B[0m",
      "\u001B[0;31mNameError\u001B[0m: name 'model' is not defined"
     ]
    }
   ],
   "source": [
    "print(model.wv[\"ავთო\"])"
   ],
   "metadata": {
    "collapsed": false,
    "pycharm": {
     "name": "#%%\n"
    }
   }
  },
  {
   "cell_type": "code",
   "execution_count": 3,
   "outputs": [
    {
     "name": "stdout",
     "output_type": "stream",
     "text": [
      "Initializing data\n"
     ]
    }
   ],
   "source": [
    "georgian_model = GeorgianWord2Vec()"
   ],
   "metadata": {
    "collapsed": false,
    "pycharm": {
     "name": "#%%\n"
    }
   }
  },
  {
   "cell_type": "code",
   "execution_count": 4,
   "outputs": [
    {
     "name": "stdout",
     "output_type": "stream",
     "text": [
      "['ედუარდ', 'შევარდნაძე', 'ედუარდ', 'ამბროსის', 'ძე', 'შევარდნაძე', '(დ']\n"
     ]
    }
   ],
   "source": [
    "georgian_model.train(\"../data/data2.txt\")"
   ],
   "metadata": {
    "collapsed": false,
    "pycharm": {
     "name": "#%%\n"
    }
   }
  },
  {
   "cell_type": "code",
   "execution_count": 5,
   "outputs": [
    {
     "name": "stdout",
     "output_type": "stream",
     "text": [
      "[ 8.1248647e-03 -4.4547413e-03 -1.0500057e-03  1.0474137e-03\n",
      " -1.9329190e-04  1.1259809e-03  6.1145429e-03 -3.5712287e-07\n",
      " -3.2579873e-03 -1.5135300e-03  5.8782487e-03  1.5009199e-03\n",
      " -7.3593750e-04  9.3621546e-03 -4.9140980e-03 -8.2872139e-04\n",
      "  9.1967331e-03  6.7400974e-03  1.5266223e-03 -8.9173531e-03\n",
      "  1.1553584e-03 -2.2661486e-03  9.3517248e-03  1.1999665e-03\n",
      "  1.4676420e-03  2.4239894e-03 -1.8455875e-03 -5.0146668e-03\n",
      "  2.4953051e-04 -2.0063855e-03  6.6344417e-03  8.9559210e-03\n",
      " -6.8635133e-04  2.9842837e-03 -6.1322823e-03  1.6900052e-03\n",
      " -6.9335690e-03 -8.6943740e-03 -5.9239641e-03 -8.9979367e-03\n",
      "  7.2881677e-03 -5.7598399e-03  8.2939267e-03 -7.2441865e-03\n",
      "  3.4343877e-03  9.7083794e-03 -7.8129116e-03 -9.9352738e-03\n",
      " -4.3090261e-03 -2.6836288e-03 -2.7622559e-04 -8.8360105e-03\n",
      " -8.6303856e-03  2.8191048e-03 -8.2509629e-03 -9.0519758e-03\n",
      " -2.3441375e-03 -8.6424854e-03 -7.0661777e-03 -8.4284320e-03\n",
      " -2.9962618e-04 -4.5501655e-03  6.5882672e-03  1.5387562e-03\n",
      " -3.3833650e-03  6.1309482e-03 -6.0131946e-03 -4.6796300e-03\n",
      " -7.2088605e-03 -4.3361336e-03 -1.8193600e-03  6.4747990e-03\n",
      " -2.7789504e-03  4.9143522e-03  6.9162375e-03 -7.4763629e-03\n",
      "  4.5667021e-03  6.1147944e-03 -2.9733400e-03  6.6420096e-03\n",
      "  6.0874238e-03 -6.4519304e-03 -6.7905616e-03  2.5622644e-03\n",
      " -1.6174339e-03 -6.0792207e-03  9.4963806e-03 -5.1039006e-03\n",
      " -6.5285731e-03 -1.1725345e-04 -2.6955176e-03  4.5810896e-04\n",
      " -3.5429990e-03 -3.7726999e-04 -6.9555250e-04  8.5918605e-04\n",
      "  8.1990119e-03 -5.7749525e-03 -1.6479238e-03  5.5779661e-03]\n"
     ]
    }
   ],
   "source": [
    "print(georgian_model.get_vector(\"ედუარდ\"))"
   ],
   "metadata": {
    "collapsed": false,
    "pycharm": {
     "name": "#%%\n"
    }
   }
  }
 ],
 "metadata": {
  "kernelspec": {
   "display_name": "Python 3",
   "language": "python",
   "name": "python3"
  },
  "language_info": {
   "codemirror_mode": {
    "name": "ipython",
    "version": 2
   },
   "file_extension": ".py",
   "mimetype": "text/x-python",
   "name": "python",
   "nbconvert_exporter": "python",
   "pygments_lexer": "ipython2",
   "version": "2.7.6"
  }
 },
 "nbformat": 4,
 "nbformat_minor": 0
}