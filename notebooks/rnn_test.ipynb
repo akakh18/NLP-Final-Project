{
 "cells": [
  {
   "cell_type": "code",
   "execution_count": 1,
   "id": "ab4a18a7",
   "metadata": {
    "pycharm": {
     "name": "#%%\n"
    }
   },
   "outputs": [
    {
     "name": "stdout",
     "output_type": "stream",
     "text": [
      "['kawiki.txt', 'data.txt', 'data2.txt']\n"
     ]
    }
   ],
   "source": [
    "import os\n",
    "import torch\n",
    "\n",
    "import utils\n",
    "\n",
    "%load_ext autoreload\n",
    "%autoreload 2\n",
    "\n",
    "CUDA_LAUNCH_BLOCKING=1\n",
    "os.environ['CUDA_LAUNCH_BLOCKING'] = \"1\"\n",
    "print(os.listdir(\"../data/\"))\n"
   ]
  },
  {
   "cell_type": "code",
   "execution_count": 2,
   "id": "f8b8bb33",
   "metadata": {
    "pycharm": {
     "name": "#%%\n"
    }
   },
   "outputs": [],
   "source": [
    "from utils import GeorgianLanguageDatasetLoader\n",
    "import gc\n",
    "gc.collect()\n",
    "torch.cuda.empty_cache()\n",
    "\n",
    "device = torch.device('cuda' if torch.cuda.is_available() else 'cpu')\n",
    "dataset = GeorgianLanguageDatasetLoader(\"../data/kawiki.txt\", 5, device)"
   ]
  },
  {
   "cell_type": "code",
   "execution_count": 3,
   "id": "5bdeb887",
   "metadata": {
    "pycharm": {
     "name": "#%%\n"
    }
   },
   "outputs": [
    {
     "name": "stdout",
     "output_type": "stream",
     "text": [
      "['<unk>', ',', '.', 'და', ')', '(', '—', '“', '„', ':', 'იყო', 'წელს', 'წლის', 'რომელიც', 'რომ', 'საქართველოს', ';', '-', 'ამ', 'მისი']\n"
     ]
    }
   ],
   "source": [
    "vocab = dataset.get_vocabulary()\n",
    "print(vocab.get_itos()[:20])"
   ]
  },
  {
   "cell_type": "code",
   "execution_count": 4,
   "id": "59822e11",
   "metadata": {
    "pycharm": {
     "name": "#%%\n"
    }
   },
   "outputs": [
    {
     "data": {
      "text/plain": "tensor([  600,    82, 15948,  7157,  3938,     9,  6244,  4313,  3169,  2557])"
     },
     "execution_count": 4,
     "metadata": {},
     "output_type": "execute_result"
    }
   ],
   "source": [
    "train_data, valid_data, test_data = dataset.get_data()\n",
    "train_data[:10]"
   ]
  },
  {
   "cell_type": "code",
   "execution_count": 5,
   "id": "605bee08",
   "metadata": {
    "pycharm": {
     "name": "#%%\n"
    }
   },
   "outputs": [
    {
     "data": {
      "text/plain": "'რომელიც კონკურენციას უწევს თავის უფრო ადრეულ ანალოგებს Abobe Flex და Microsoft Silverlight . მოგვიანებით ჩნდება ( ალბათ , ქრისტიანობის და'"
     },
     "execution_count": 5,
     "metadata": {},
     "output_type": "execute_result"
    }
   ],
   "source": [
    "' '.join([vocab.get_itos()[i] for i in train_data[40:60]])"
   ]
  },
  {
   "cell_type": "code",
   "execution_count": 6,
   "id": "5306c58b",
   "metadata": {
    "pycharm": {
     "name": "#%%\n"
    }
   },
   "outputs": [
    {
     "data": {
      "text/plain": "[263, 395, 0]"
     },
     "execution_count": 6,
     "metadata": {},
     "output_type": "execute_result"
    }
   ],
   "source": [
    "text_pipeline = dataset.get_text_pipeline()\n",
    "text_pipeline(\"შავი კაცი მიდიოდა\")"
   ]
  },
  {
   "cell_type": "code",
   "execution_count": 7,
   "id": "a3b7b835",
   "metadata": {
    "pycharm": {
     "name": "#%%\n"
    }
   },
   "outputs": [],
   "source": [
    "train_data_batched, val_data_batched = dataset.get_batched_data()"
   ]
  },
  {
   "cell_type": "code",
   "execution_count": 8,
   "id": "fcf27b0c",
   "metadata": {
    "pycharm": {
     "name": "#%%\n"
    }
   },
   "outputs": [
    {
     "data": {
      "text/plain": "(torch.Size([5, 17822]), device(type='cuda', index=0))"
     },
     "execution_count": 8,
     "metadata": {},
     "output_type": "execute_result"
    }
   ],
   "source": [
    "train_data_batched.shape, train_data_batched.device"
   ]
  },
  {
   "cell_type": "code",
   "execution_count": 9,
   "id": "19fee42a",
   "metadata": {
    "pycharm": {
     "name": "#%%\n"
    }
   },
   "outputs": [],
   "source": [
    "x, y = utils.get_batch(train_data_batched, 1)"
   ]
  },
  {
   "cell_type": "code",
   "execution_count": 10,
   "id": "9ea25a4b",
   "metadata": {
    "pycharm": {
     "name": "#%%\n"
    }
   },
   "outputs": [
    {
     "data": {
      "text/plain": "(torch.Size([5, 10]), torch.Size([5, 10]), torch.Size([5, 17822]))"
     },
     "execution_count": 10,
     "metadata": {},
     "output_type": "execute_result"
    }
   ],
   "source": [
    "x.shape, y.shape, train_data_batched.shape"
   ]
  },
  {
   "cell_type": "code",
   "execution_count": 11,
   "id": "af031038",
   "metadata": {
    "pycharm": {
     "name": "#%%\n"
    }
   },
   "outputs": [
    {
     "data": {
      "text/plain": "True"
     },
     "execution_count": 11,
     "metadata": {},
     "output_type": "execute_result"
    }
   ],
   "source": [
    "x.storage().data_ptr() == train_data_batched.storage().data_ptr()"
   ]
  },
  {
   "cell_type": "code",
   "execution_count": 12,
   "id": "1074944d",
   "metadata": {
    "pycharm": {
     "name": "#%%\n"
    }
   },
   "outputs": [
    {
     "data": {
      "text/plain": "(tensor([   82, 15948,  7157,  3938,     9,  6244,  4313,  3169,  2557,  1889],\n        device='cuda:0'),\n tensor([15948,  7157,  3938,     9,  6244,  4313,  3169,  2557,  1889,     1],\n        device='cuda:0'))"
     },
     "execution_count": 12,
     "metadata": {},
     "output_type": "execute_result"
    }
   ],
   "source": [
    "x[0], y[0]"
   ]
  },
  {
   "cell_type": "code",
   "execution_count": 13,
   "id": "05674748",
   "metadata": {
    "pycharm": {
     "name": "#%%\n"
    }
   },
   "outputs": [
    {
     "name": "stderr",
     "output_type": "stream",
     "text": [
      "/home/misho/anaconda3/envs/nlp_final_project/lib/python3.7/site-packages/torch/nn/modules/rnn.py:65: UserWarning: dropout option adds dropout after all but last recurrent layer, so non-zero dropout expects num_layers greater than 1, but got dropout=0.25 and num_layers=1\n",
      "  \"num_layers={}\".format(dropout, num_layers))\n"
     ]
    },
    {
     "name": "stdout",
     "output_type": "stream",
     "text": [
      "Epoch 100 | Iter 100 | Avg Train Loss 2.1662673690915106 | Dev Perplexity None | LR  0.001\n",
      "Epoch 200 | Iter 200 | Avg Train Loss 0.03127027733251452 | Dev Perplexity None | LR  0.001\n",
      "Epoch 300 | Iter 300 | Avg Train Loss 0.01069496932439506 | Dev Perplexity None | LR  0.001\n",
      "Epoch 400 | Iter 400 | Avg Train Loss 0.006923605049960316 | Dev Perplexity None | LR  0.001\n",
      "Epoch 500 | Iter 500 | Avg Train Loss 0.005484594712033868 | Dev Perplexity 27861636.931879934 | LR  0.001\n"
     ]
    }
   ],
   "source": [
    "%reload_ext autoreload\n",
    "\n",
    "model = utils.LSTMModel(50, 300, len(vocab), device, 1).cuda()\n",
    "model = model.to(device)\n",
    "utils.train_loop(model, train_data_batched, batch_size=5)"
   ]
  },
  {
   "cell_type": "code",
   "execution_count": 14,
   "outputs": [],
   "source": [
    "text = utils.generate_text(model,device, dataset.vocab, 'იკვლევდა ევროპის და განსაკუთრებით', 20)"
   ],
   "metadata": {
    "collapsed": false,
    "pycharm": {
     "name": "#%%\n"
    }
   }
  },
  {
   "cell_type": "code",
   "execution_count": 15,
   "outputs": [
    {
     "name": "stdout",
     "output_type": "stream",
     "text": [
      "იკვლევდა ევროპის და განსაკუთრებით . . წლის ქვეშ . და და ბოლომდე ბოლომდე ბოლომდე ბოლომდე და აქვს და აქვს . პორტებია ბოლომდე . მხარის\n"
     ]
    }
   ],
   "source": [
    "print(text)"
   ],
   "metadata": {
    "collapsed": false,
    "pycharm": {
     "name": "#%%\n"
    }
   }
  },
  {
   "cell_type": "code",
   "execution_count": 16,
   "outputs": [],
   "source": [
    "torch.cuda.empty_cache()"
   ],
   "metadata": {
    "collapsed": false,
    "pycharm": {
     "name": "#%%\n"
    }
   }
  },
  {
   "cell_type": "code",
   "execution_count": 17,
   "outputs": [
    {
     "name": "stdout",
     "output_type": "stream",
     "text": [
      "Initializing data\n"
     ]
    },
    {
     "name": "stderr",
     "output_type": "stream",
     "text": [
      "[nltk_data] Downloading package punkt to /home/misho/nltk_data...\n",
      "[nltk_data]   Package punkt is already up-to-date!\n"
     ]
    },
    {
     "name": "stdout",
     "output_type": "stream",
     "text": [
      "Model created!\n"
     ]
    },
    {
     "name": "stderr",
     "output_type": "stream",
     "text": [
      "IOPub data rate exceeded.\n",
      "The notebook server will temporarily stop sending output\n",
      "to the client in order to avoid crashing it.\n",
      "To change this limit, set the config variable\n",
      "`--NotebookApp.iopub_data_rate_limit`.\n",
      "\n",
      "Current values:\n",
      "NotebookApp.iopub_data_rate_limit=1000000.0 (bytes/sec)\n",
      "NotebookApp.rate_limit_window=3.0 (secs)\n",
      "\n"
     ]
    }
   ],
   "source": [
    "geo_model = utils.GeorgianWord2Vec()\n",
    "geo_model.train(\"../data/kawiki.txt\")"
   ],
   "metadata": {
    "collapsed": false,
    "pycharm": {
     "name": "#%%\n"
    }
   }
  },
  {
   "cell_type": "code",
   "execution_count": 18,
   "outputs": [
    {
     "data": {
      "text/plain": "torch.Size([50778, 100])"
     },
     "execution_count": 18,
     "metadata": {},
     "output_type": "execute_result"
    }
   ],
   "source": [
    "embeddings = torch.FloatTensor(geo_model.get_model().wv.vectors)\n",
    "embeddings.shape"
   ],
   "metadata": {
    "collapsed": false,
    "pycharm": {
     "name": "#%%\n"
    }
   }
  },
  {
   "cell_type": "code",
   "execution_count": 19,
   "outputs": [
    {
     "name": "stderr",
     "output_type": "stream",
     "text": [
      "/home/misho/anaconda3/envs/nlp_final_project/lib/python3.7/site-packages/torch/nn/modules/rnn.py:65: UserWarning: dropout option adds dropout after all but last recurrent layer, so non-zero dropout expects num_layers greater than 1, but got dropout=0.25 and num_layers=1\n",
      "  \"num_layers={}\".format(dropout, num_layers))\n"
     ]
    },
    {
     "name": "stdout",
     "output_type": "stream",
     "text": [
      "Epoch 100 | Iter 100 | Avg Train Loss 3.014884192943573 | Dev Perplexity None | LR  0.001\n",
      "Epoch 200 | Iter 200 | Avg Train Loss 0.5420066811144352 | Dev Perplexity None | LR  0.001\n",
      "Epoch 300 | Iter 300 | Avg Train Loss 0.0977376028522849 | Dev Perplexity None | LR  0.001\n",
      "Epoch 400 | Iter 400 | Avg Train Loss 0.11779415991157294 | Dev Perplexity None | LR  0.001\n",
      "Epoch 500 | Iter 500 | Avg Train Loss 0.04499049412086606 | Dev Perplexity 203373217731388.28 | LR  0.001\n"
     ]
    }
   ],
   "source": [
    "model = utils.LSTMModel(128, 600, len(vocab), device, num_layers=1, embeddings=embeddings).cuda()\n",
    "model = model.to(device)\n",
    "utils.train_loop(model, train_data_batched, batch_size=5)"
   ],
   "metadata": {
    "collapsed": false,
    "pycharm": {
     "name": "#%%\n"
    }
   }
  },
  {
   "cell_type": "code",
   "execution_count": 20,
   "outputs": [
    {
     "name": "stdout",
     "output_type": "stream",
     "text": [
      "პოლიტიკური კარიერა აღმოჩენილიქნა სქესს სინათლის მიეკუთვნებიან მამრობითი აქვს მამრობითი და გავრცელებისა :\n"
     ]
    }
   ],
   "source": [
    "text = utils.generate_text(model,device, dataset.vocab, 'პოლიტიკური კარიერა', 10)\n",
    "print(text)"
   ],
   "metadata": {
    "collapsed": false,
    "pycharm": {
     "name": "#%%\n"
    }
   }
  }
 ],
 "metadata": {
  "kernelspec": {
   "display_name": "nlp_final_project",
   "language": "python",
   "name": "nlp_final_project"
  },
  "language_info": {
   "codemirror_mode": {
    "name": "ipython",
    "version": 3
   },
   "file_extension": ".py",
   "mimetype": "text/x-python",
   "name": "python",
   "nbconvert_exporter": "python",
   "pygments_lexer": "ipython3",
   "version": "3.7.13"
  }
 },
 "nbformat": 4,
 "nbformat_minor": 5
}